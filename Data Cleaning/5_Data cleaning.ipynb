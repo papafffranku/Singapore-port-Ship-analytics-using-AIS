{
 "cells": [
  {
   "cell_type": "code",
   "execution_count": 1,
   "id": "ee11d4d7-67ad-455c-b647-1473408f4cb7",
   "metadata": {},
   "outputs": [],
   "source": [
    "import pandas as pd\n",
    "import time"
   ]
  },
  {
   "cell_type": "code",
   "execution_count": 2,
   "id": "78e115ff-fb1c-401b-b3e2-b3e82df56e83",
   "metadata": {},
   "outputs": [],
   "source": [
    "file_start_time = time.time()"
   ]
  },
  {
   "cell_type": "code",
   "execution_count": 3,
   "id": "f265fe27-6044-46f5-b138-ce7a447eae52",
   "metadata": {},
   "outputs": [],
   "source": [
    "header = ['_id', 'type', 'mmsi', 'status', 'turn', 'speed', 'accuracy', 'lon', 'lat', 'course', 'heading', 'time', 'imo', 'callsign', 'shipname', 'shiptype', 'to_bow',\n",
    "          'to_stern', 'to_port', 'to_starboard', 'month', 'day', 'hour', 'minute', 'draught', 'destination', 'destination_country',\t'shiptype_vessel',\t\n",
    "          'vessel_flag', 'vessel_flag_continent',' vessel_flag_country_code\\r']\n",
    "        # tbc header name from country_destination"
   ]
  },
  {
   "cell_type": "code",
   "execution_count": 4,
   "id": "606a63e6-1e75-4f3f-89e1-c633ac9e76c7",
   "metadata": {
    "scrolled": true
   },
   "outputs": [
    {
     "name": "stdout",
     "output_type": "stream",
     "text": [
      "Read time: 2.7133119106292725\n"
     ]
    }
   ],
   "source": [
    "start_time = time.time()\n",
    "\n",
    "chunk = pd.read_csv('cleaned_type5.csv',chunksize=100000,lineterminator='\\n')\n",
    "df = pd.concat(chunk)\n",
    "\n",
    "# start_time = time.time()\n",
    "end_time = time.time()\n",
    "read_time =   end_time - start_time\n",
    "print(\"Read time:\",read_time)\n"
   ]
  },
  {
   "cell_type": "code",
   "execution_count": 5,
   "id": "2e6210b1-7a4d-4d1e-a58c-8bc62fd46bbf",
   "metadata": {},
   "outputs": [
    {
     "data": {
      "text/html": [
       "<div>\n",
       "<style scoped>\n",
       "    .dataframe tbody tr th:only-of-type {\n",
       "        vertical-align: middle;\n",
       "    }\n",
       "\n",
       "    .dataframe tbody tr th {\n",
       "        vertical-align: top;\n",
       "    }\n",
       "\n",
       "    .dataframe thead th {\n",
       "        text-align: right;\n",
       "    }\n",
       "</style>\n",
       "<table border=\"1\" class=\"dataframe\">\n",
       "  <thead>\n",
       "    <tr style=\"text-align: right;\">\n",
       "      <th></th>\n",
       "      <th>_id</th>\n",
       "      <th>type</th>\n",
       "      <th>mmsi</th>\n",
       "      <th>time</th>\n",
       "      <th>imo</th>\n",
       "      <th>callsign</th>\n",
       "      <th>shipname</th>\n",
       "      <th>shiptype</th>\n",
       "      <th>to_bow</th>\n",
       "      <th>to_stern</th>\n",
       "      <th>to_port</th>\n",
       "      <th>to_starboard</th>\n",
       "      <th>draught</th>\n",
       "      <th>destination</th>\n",
       "      <th>destination_country</th>\n",
       "      <th>shiptype_vessel</th>\n",
       "      <th>vessel_flag</th>\n",
       "      <th>vessel_flag_continent</th>\n",
       "      <th>vessel_flag_country_code\\r</th>\n",
       "    </tr>\n",
       "  </thead>\n",
       "  <tbody>\n",
       "    <tr>\n",
       "      <th>0</th>\n",
       "      <td>6533fb51281b73e6e0bd037b</td>\n",
       "      <td>5</td>\n",
       "      <td>205559000</td>\n",
       "      <td>2023-09-09 18:07:29+08</td>\n",
       "      <td>9416733</td>\n",
       "      <td>ONGB</td>\n",
       "      <td>FRATERNITY</td>\n",
       "      <td>89</td>\n",
       "      <td>230</td>\n",
       "      <td>44</td>\n",
       "      <td>17</td>\n",
       "      <td>31</td>\n",
       "      <td>13.7</td>\n",
       "      <td>SGSIN</td>\n",
       "      <td>SINGAPORE</td>\n",
       "      <td>Tanker</td>\n",
       "      <td>Belgium</td>\n",
       "      <td>EUROPE</td>\n",
       "      <td>BE\\r</td>\n",
       "    </tr>\n",
       "    <tr>\n",
       "      <th>1</th>\n",
       "      <td>6533fb4b281b73e6e0bb4805</td>\n",
       "      <td>5</td>\n",
       "      <td>205083000</td>\n",
       "      <td>2023-09-09 15:35:18+08</td>\n",
       "      <td>9792527</td>\n",
       "      <td>ORUE</td>\n",
       "      <td>BOKA TIAMAT</td>\n",
       "      <td>79</td>\n",
       "      <td>40</td>\n",
       "      <td>58</td>\n",
       "      <td>10</td>\n",
       "      <td>10</td>\n",
       "      <td>5.2</td>\n",
       "      <td>SGSIN PWBGB</td>\n",
       "      <td>SINGAPORE</td>\n",
       "      <td>Cargo</td>\n",
       "      <td>Belgium</td>\n",
       "      <td>EUROPE</td>\n",
       "      <td>BE\\r</td>\n",
       "    </tr>\n",
       "    <tr>\n",
       "      <th>2</th>\n",
       "      <td>6533fb3e281b73e6e0b7b5e4</td>\n",
       "      <td>5</td>\n",
       "      <td>205559000</td>\n",
       "      <td>2023-09-09 09:31:29+08</td>\n",
       "      <td>9416733</td>\n",
       "      <td>ONGB</td>\n",
       "      <td>FRATERNITY</td>\n",
       "      <td>89</td>\n",
       "      <td>230</td>\n",
       "      <td>44</td>\n",
       "      <td>17</td>\n",
       "      <td>31</td>\n",
       "      <td>16.9</td>\n",
       "      <td>SGSIN</td>\n",
       "      <td>SINGAPORE</td>\n",
       "      <td>Tanker</td>\n",
       "      <td>Belgium</td>\n",
       "      <td>EUROPE</td>\n",
       "      <td>BE\\r</td>\n",
       "    </tr>\n",
       "    <tr>\n",
       "      <th>3</th>\n",
       "      <td>6533fb38281b73e6e0b5e184</td>\n",
       "      <td>5</td>\n",
       "      <td>205559000</td>\n",
       "      <td>2023-09-09 06:37:27+08</td>\n",
       "      <td>9416733</td>\n",
       "      <td>ONGB</td>\n",
       "      <td>FRATERNITY</td>\n",
       "      <td>89</td>\n",
       "      <td>230</td>\n",
       "      <td>44</td>\n",
       "      <td>17</td>\n",
       "      <td>31</td>\n",
       "      <td>16.9</td>\n",
       "      <td>SGSIN</td>\n",
       "      <td>SINGAPORE</td>\n",
       "      <td>Tanker</td>\n",
       "      <td>Belgium</td>\n",
       "      <td>EUROPE</td>\n",
       "      <td>BE\\r</td>\n",
       "    </tr>\n",
       "    <tr>\n",
       "      <th>4</th>\n",
       "      <td>6533fb3c281b73e6e0b6f14c</td>\n",
       "      <td>5</td>\n",
       "      <td>205559000</td>\n",
       "      <td>2023-09-09 08:19:25+08</td>\n",
       "      <td>9416733</td>\n",
       "      <td>ONGB</td>\n",
       "      <td>FRATERNITY</td>\n",
       "      <td>89</td>\n",
       "      <td>230</td>\n",
       "      <td>44</td>\n",
       "      <td>17</td>\n",
       "      <td>31</td>\n",
       "      <td>16.9</td>\n",
       "      <td>SGSIN</td>\n",
       "      <td>SINGAPORE</td>\n",
       "      <td>Tanker</td>\n",
       "      <td>Belgium</td>\n",
       "      <td>EUROPE</td>\n",
       "      <td>BE\\r</td>\n",
       "    </tr>\n",
       "  </tbody>\n",
       "</table>\n",
       "</div>"
      ],
      "text/plain": [
       "                        _id  type       mmsi                    time      imo  \\\n",
       "0  6533fb51281b73e6e0bd037b     5  205559000  2023-09-09 18:07:29+08  9416733   \n",
       "1  6533fb4b281b73e6e0bb4805     5  205083000  2023-09-09 15:35:18+08  9792527   \n",
       "2  6533fb3e281b73e6e0b7b5e4     5  205559000  2023-09-09 09:31:29+08  9416733   \n",
       "3  6533fb38281b73e6e0b5e184     5  205559000  2023-09-09 06:37:27+08  9416733   \n",
       "4  6533fb3c281b73e6e0b6f14c     5  205559000  2023-09-09 08:19:25+08  9416733   \n",
       "\n",
       "  callsign     shipname  shiptype  to_bow  to_stern  to_port  to_starboard  \\\n",
       "0     ONGB   FRATERNITY        89     230        44       17            31   \n",
       "1     ORUE  BOKA TIAMAT        79      40        58       10            10   \n",
       "2     ONGB   FRATERNITY        89     230        44       17            31   \n",
       "3     ONGB   FRATERNITY        89     230        44       17            31   \n",
       "4     ONGB   FRATERNITY        89     230        44       17            31   \n",
       "\n",
       "   draught  destination destination_country shiptype_vessel vessel_flag  \\\n",
       "0     13.7        SGSIN           SINGAPORE          Tanker     Belgium   \n",
       "1      5.2  SGSIN PWBGB           SINGAPORE           Cargo     Belgium   \n",
       "2     16.9        SGSIN           SINGAPORE          Tanker     Belgium   \n",
       "3     16.9        SGSIN           SINGAPORE          Tanker     Belgium   \n",
       "4     16.9        SGSIN           SINGAPORE          Tanker     Belgium   \n",
       "\n",
       "  vessel_flag_continent vessel_flag_country_code\\r  \n",
       "0                EUROPE                       BE\\r  \n",
       "1                EUROPE                       BE\\r  \n",
       "2                EUROPE                       BE\\r  \n",
       "3                EUROPE                       BE\\r  \n",
       "4                EUROPE                       BE\\r  "
      ]
     },
     "execution_count": 5,
     "metadata": {},
     "output_type": "execute_result"
    }
   ],
   "source": [
    "df.head()"
   ]
  },
  {
   "cell_type": "code",
   "execution_count": 6,
   "id": "1fcbcefc-1c24-49f9-92e9-dcf59d9918de",
   "metadata": {},
   "outputs": [
    {
     "name": "stdout",
     "output_type": "stream",
     "text": [
      "Execution time: 0.3024575710296631\n"
     ]
    }
   ],
   "source": [
    "start_time = time.time()\n",
    "df.isna().sum()\n",
    "end_time = time.time()\n",
    "execution_time =   end_time - start_time\n",
    "print(\"Execution time:\",execution_time)"
   ]
  },
  {
   "cell_type": "code",
   "execution_count": 7,
   "id": "9d439db8-8b16-4a0a-8944-dfe430ff349c",
   "metadata": {},
   "outputs": [
    {
     "data": {
      "text/plain": [
       "(1417249, 19)"
      ]
     },
     "execution_count": 7,
     "metadata": {},
     "output_type": "execute_result"
    }
   ],
   "source": [
    "df.shape"
   ]
  },
  {
   "cell_type": "markdown",
   "id": "81fbe14f-ad83-430c-900c-95fd9db77795",
   "metadata": {},
   "source": [
    "# Cleaning steps\n",
    "1. Drop message id col\n",
    "2. Split by msg type (123, 5, 1819)\n",
    "3. Remove MMSI less than 9 digits\n",
    "4. Extract SG destination\n",
    "   \n",
    "For 123 and 1819:\n",
    "1. convert status to int\n",
    "\n",
    "For 5:\n",
    "\n",
    "# NA\n",
    "1. Callsign drop non alpha-numeric (callsign ~ '^[A-Za-z0-9]+$'  and > 0)\n",
    "2. Convert shiptype to int\n",
    "4. Drop month, day, hour minute\n"
   ]
  },
  {
   "cell_type": "code",
   "execution_count": 8,
   "id": "acf94933-1f27-4951-a7c0-cca0bee00a8d",
   "metadata": {},
   "outputs": [],
   "source": [
    "clean_start_time = time.time()"
   ]
  },
  {
   "cell_type": "code",
   "execution_count": 9,
   "id": "57e5c8d2-84c4-453a-8753-3ea9f2c0468d",
   "metadata": {},
   "outputs": [],
   "source": [
    "df_clean = df.drop('_id', axis = 1)"
   ]
  },
  {
   "cell_type": "code",
   "execution_count": 10,
   "id": "799ccc79-f5c8-4c03-9132-da2b57e14694",
   "metadata": {},
   "outputs": [
    {
     "data": {
      "text/plain": [
       "(1417249, 18)"
      ]
     },
     "execution_count": 10,
     "metadata": {},
     "output_type": "execute_result"
    }
   ],
   "source": [
    "df_clean.shape"
   ]
  },
  {
   "cell_type": "code",
   "execution_count": 11,
   "id": "8d2a52e9-c5bf-478d-ab4e-e3193d72bae3",
   "metadata": {},
   "outputs": [],
   "source": [
    "# clean mmsi shorter than 9 digits\n",
    "df_clean = df_clean[df_clean.mmsi > 99999999]"
   ]
  },
  {
   "cell_type": "code",
   "execution_count": 12,
   "id": "aa77f7f8-35fc-4e02-9b48-7857f78d92a8",
   "metadata": {},
   "outputs": [
    {
     "data": {
      "text/plain": [
       "(1417136, 18)"
      ]
     },
     "execution_count": 12,
     "metadata": {},
     "output_type": "execute_result"
    }
   ],
   "source": [
    "df_clean.shape"
   ]
  },
  {
   "cell_type": "code",
   "execution_count": 13,
   "id": "08b861ea-7484-45c1-a97f-e84e504190c0",
   "metadata": {},
   "outputs": [],
   "source": [
    "# start_time = time.time()\n",
    "# df_type123 = df_clean[df_clean.type <= 3][['mmsi', 'status', 'turn', 'speed', 'accuracy', 'lon', 'lat', 'course', 'heading', 'time']]\n",
    "# print(df_type123.shape)\n",
    "# end_time = time.time()\n",
    "# execution_time =   end_time - start_time\n",
    "# print(\"Execution time:\",execution_time)"
   ]
  },
  {
   "cell_type": "code",
   "execution_count": 14,
   "id": "5051a654-035d-42f7-ac35-3ba485a70caa",
   "metadata": {},
   "outputs": [
    {
     "name": "stdout",
     "output_type": "stream",
     "text": [
      "(1417136, 4)\n",
      "Execution time: 0.3599581718444824\n"
     ]
    }
   ],
   "source": [
    "start_time = time.time()\n",
    "df_type5 = df_clean[df_clean.type == 5][['mmsi', 'time', 'draught', 'destination_country']] # cleaned destination \n",
    "print(df_type5.shape)\n",
    "end_time = time.time()\n",
    "execution_time =   end_time - start_time\n",
    "print(\"Execution time:\",execution_time)"
   ]
  },
  {
   "cell_type": "code",
   "execution_count": 15,
   "id": "befd4441-e8fd-4f82-8249-4d08620a3492",
   "metadata": {},
   "outputs": [],
   "source": [
    "# start_time = time.time()\n",
    "# df_type1819 = df_clean[df_clean.type >= 18][['mmsi', 'speed', 'accuracy', 'lon', 'lat', 'course', 'time']]\n",
    "# print(df_type1819.shape)\n",
    "# end_time = time.time()\n",
    "# execution_time =   end_time - start_time\n",
    "# print(\"Execution time:\",execution_time)"
   ]
  },
  {
   "cell_type": "markdown",
   "id": "45903b28-d807-4b00-b4d2-9d7a985313e1",
   "metadata": {},
   "source": [
    "# Clean df_type 123"
   ]
  },
  {
   "cell_type": "code",
   "execution_count": 16,
   "id": "b035a76c-aae1-47ec-91cd-b5a2da8e5a4a",
   "metadata": {},
   "outputs": [],
   "source": [
    "# # change status to type int\n",
    "# df_type123['status'] = df_type123['status'].astype(int)"
   ]
  },
  {
   "cell_type": "markdown",
   "id": "1dc767f6-becd-4024-846d-578b9399102a",
   "metadata": {},
   "source": [
    "# Clean df_type 5"
   ]
  },
  {
   "cell_type": "markdown",
   "id": "f24d7393-f31b-4926-b4d7-9f30650c5a53",
   "metadata": {},
   "source": [
    "# Clean df_type 1819"
   ]
  },
  {
   "cell_type": "code",
   "execution_count": 17,
   "id": "b45e44b0-99d3-49cc-b637-4887a85771d7",
   "metadata": {},
   "outputs": [
    {
     "name": "stdout",
     "output_type": "stream",
     "text": [
      "Cleaning time: 0.7735941410064697\n"
     ]
    }
   ],
   "source": [
    "clean_end_time = time.time()\n",
    "clean_time =   clean_end_time - clean_start_time\n",
    "print(\"Cleaning time:\",clean_time)"
   ]
  },
  {
   "cell_type": "markdown",
   "id": "ef72b95d-fd5b-440a-a969-ec4fc2eaf7d2",
   "metadata": {
    "jp-MarkdownHeadingCollapsed": true
   },
   "source": [
    "# Destination cleaning (NA)"
   ]
  },
  {
   "cell_type": "code",
   "execution_count": 18,
   "id": "32df68aa-b509-4939-be4a-a00208538c3d",
   "metadata": {},
   "outputs": [],
   "source": [
    "# # Singapore location cleaning\n",
    "# keywords = ['sg', 'singapore', 'sin', 'sgp', 'PEBGA', 'PEBGB', 'PSBG', 'PWBGA', 'PWBGB', 'PJSB', 'PGBG', 'ACBTH', 'ACGP', 'AEBA', 'AEBB', 'AEBC', 'AEPB', 'AEPBB', 'AEPBC', 'AESPA', 'ASCA', 'ASCB', 'AMOW', 'AEW', 'AEPA', 'AEHA', 'AEHC', 'AEHB']\n",
    "\n",
    "# # Function to clean destination data using input\n",
    "# def clean_destination(destination):\n",
    "#     destination = str(destination)\n",
    "#     cleaned_destination = [word.upper() for word in keywords if word.lower() in destination.lower()]\n",
    "#     if cleaned_destination:\n",
    "#         return 'SG'\n",
    "        \n",
    "# # Apply the function to the 'destination' column and create a new column 'destination_clean'\n",
    "# df_clean['destination_clean'] = df_clean['destination'].apply(clean_destination)\n",
    "\n",
    "# # drop destination column\n",
    "# # df_clean = df_clean.drop('destination', axis = 1)"
   ]
  },
  {
   "cell_type": "code",
   "execution_count": 19,
   "id": "97abc12d-fd32-4a10-b7a6-4f6ff9bc0f6c",
   "metadata": {},
   "outputs": [],
   "source": [
    "# df_clean.destination_clean.value_counts()"
   ]
  },
  {
   "cell_type": "code",
   "execution_count": 20,
   "id": "bf7bc756-8e33-4ecc-a3b9-88a9408656ca",
   "metadata": {},
   "outputs": [],
   "source": [
    "# countries_keywords = {\n",
    "#     'SG': ['sg', 'singapore', 'sin', 'sgp'],  # Singapore\n",
    "#     'US': ['us', 'usa', 'america'],  # United States\n",
    "#     'CN': ['cn', 'china', 'prc'],  # China\n",
    "#     'JP': ['jp', 'japan'],  # Japan\n",
    "#     'KR': ['kr', 'south korea'],  # South Korea\n",
    "#     'DE': ['de', 'germany'],  # Germany\n",
    "#     'NL': ['nl', 'netherlands'],  # Netherlands\n",
    "#     'AE': ['ae', 'united arab emirates', 'uae'],  # United Arab Emirates\n",
    "#     'HK': ['hk', 'hong kong'],  # Hong Kong\n",
    "#     'MY': ['my', 'malaysia'],  # Malaysia\n",
    "#     'BR': ['br', 'brazil'],  # Brazil\n",
    "#     'AU': ['au', 'australia'],  # Australia\n",
    "#     'ID': ['id', 'indonesia'],  # Indonesia\n",
    "#     'TH': ['th', 'thailand'],  # Thailand\n",
    "#     'VN': ['vn', 'vietnam'],  # Vietnam\n",
    "#     'PH': ['ph', 'philippines'],  # Philippines\n",
    "#     'MM': ['mm', 'myanmar'],  # Myanmar\n",
    "#     'KH': ['kh', 'cambodia'],  # Cambodia\n",
    "#     'LA': ['la', 'lao', 'laos'],  # Laos\n",
    "#     'BN': ['bn', 'brunei'],  # Brunei\n",
    "#     'TL': ['tl', 'timor-leste'],  # Timor-Leste\n",
    "#     'IN': ['in', 'india'],  # India\n",
    "#     'PK': ['pk', 'pakistan'],  # Pakistan\n",
    "#     'BD': ['bd', 'bangladesh'],  # Bangladesh\n",
    "#     'LK': ['lk', 'sri lanka'],  # Sri Lanka\n",
    "#     'NP': ['np', 'nepal'],  # Nepal\n",
    "#     'MM': ['mm', 'myanmar'],  # Myanmar\n",
    "#     # Add more countries and their keywords as needed\n",
    "# }"
   ]
  },
  {
   "cell_type": "code",
   "execution_count": 21,
   "id": "2fc08bb2-3ecd-43f1-b576-c31937380d10",
   "metadata": {},
   "outputs": [],
   "source": [
    "# start_time = time.time()\n",
    "\n",
    "# for code, keywords in countries_keywords.items():\n",
    "#     def clean_destination(destination):\n",
    "#         destination = str(destination)\n",
    "#         cleaned_destination = [word.upper() for word in keywords if word.lower() in destination.lower()]\n",
    "#         if cleaned_destination:\n",
    "#             return code\n",
    "\n",
    "#     df_clean['destination_clean'] = df_clean['destination'].apply(clean_destination)\n",
    "\n",
    "# end_time = time.time()\n",
    "# execution_time =   end_time - start_time\n",
    "# print(\"Execution time:\",execution_time)\n",
    "# df_clean.destination_clean.value_counts()"
   ]
  },
  {
   "cell_type": "code",
   "execution_count": 22,
   "id": "8e483328-0c71-4175-92b3-769ae7361be9",
   "metadata": {},
   "outputs": [],
   "source": [
    "# def clean_destination(row):\n",
    "#     destination = str(row['destination'].lower())\n",
    "#     for code, keywords in countries_keywords.items():\n",
    "#         if any(keyword in destination for keyword in keywords):\n",
    "#             return code.upper()\n",
    "#     return None"
   ]
  },
  {
   "cell_type": "code",
   "execution_count": 23,
   "id": "ccaeed1b-536f-46b6-9775-62a8b1486884",
   "metadata": {},
   "outputs": [],
   "source": [
    "# # Apply the clean_destination function to create 'destination_clean' column\n",
    "# df_clean['destination_clean'] = df_clean.apply(clean_destination, axis=1)"
   ]
  },
  {
   "cell_type": "code",
   "execution_count": 24,
   "id": "9e5ee70a-63c5-43f8-97c4-d4b8d9586c1c",
   "metadata": {},
   "outputs": [],
   "source": [
    "# df_clean.destination_clean.value_counts()"
   ]
  },
  {
   "cell_type": "markdown",
   "id": "95d7534c-1c2d-4c7d-9ab8-5972e3dc5a82",
   "metadata": {},
   "source": [
    "# All cleaning steps completed, save to csv"
   ]
  },
  {
   "cell_type": "code",
   "execution_count": 25,
   "id": "a7da00eb-576c-4efe-a693-fc0b43c160fe",
   "metadata": {},
   "outputs": [],
   "source": [
    "# df_clean.to_csv('df_clean.csv')"
   ]
  },
  {
   "cell_type": "code",
   "execution_count": 26,
   "id": "8624e56b-ae34-4572-94d7-fd624818588a",
   "metadata": {},
   "outputs": [],
   "source": [
    "# df_type123.to_csv('df_type123.csv')"
   ]
  },
  {
   "cell_type": "code",
   "execution_count": 27,
   "id": "988ecbad-3b60-44a7-af4c-fc2018910ef2",
   "metadata": {},
   "outputs": [],
   "source": [
    "df_type5.to_csv('df_type5.csv')"
   ]
  },
  {
   "cell_type": "code",
   "execution_count": 30,
   "id": "ec7de6f2-e71b-4e41-8003-9d40d9a350ff",
   "metadata": {},
   "outputs": [
    {
     "data": {
      "text/html": [
       "<div>\n",
       "<style scoped>\n",
       "    .dataframe tbody tr th:only-of-type {\n",
       "        vertical-align: middle;\n",
       "    }\n",
       "\n",
       "    .dataframe tbody tr th {\n",
       "        vertical-align: top;\n",
       "    }\n",
       "\n",
       "    .dataframe thead th {\n",
       "        text-align: right;\n",
       "    }\n",
       "</style>\n",
       "<table border=\"1\" class=\"dataframe\">\n",
       "  <thead>\n",
       "    <tr style=\"text-align: right;\">\n",
       "      <th></th>\n",
       "      <th>mmsi</th>\n",
       "      <th>time</th>\n",
       "      <th>draught</th>\n",
       "      <th>destination_country</th>\n",
       "    </tr>\n",
       "  </thead>\n",
       "  <tbody>\n",
       "    <tr>\n",
       "      <th>0</th>\n",
       "      <td>205559000</td>\n",
       "      <td>2023-09-09 18:07:29+08</td>\n",
       "      <td>13.7</td>\n",
       "      <td>SINGAPORE</td>\n",
       "    </tr>\n",
       "    <tr>\n",
       "      <th>1</th>\n",
       "      <td>205083000</td>\n",
       "      <td>2023-09-09 15:35:18+08</td>\n",
       "      <td>5.2</td>\n",
       "      <td>SINGAPORE</td>\n",
       "    </tr>\n",
       "    <tr>\n",
       "      <th>2</th>\n",
       "      <td>205559000</td>\n",
       "      <td>2023-09-09 09:31:29+08</td>\n",
       "      <td>16.9</td>\n",
       "      <td>SINGAPORE</td>\n",
       "    </tr>\n",
       "    <tr>\n",
       "      <th>3</th>\n",
       "      <td>205559000</td>\n",
       "      <td>2023-09-09 06:37:27+08</td>\n",
       "      <td>16.9</td>\n",
       "      <td>SINGAPORE</td>\n",
       "    </tr>\n",
       "    <tr>\n",
       "      <th>4</th>\n",
       "      <td>205559000</td>\n",
       "      <td>2023-09-09 08:19:25+08</td>\n",
       "      <td>16.9</td>\n",
       "      <td>SINGAPORE</td>\n",
       "    </tr>\n",
       "  </tbody>\n",
       "</table>\n",
       "</div>"
      ],
      "text/plain": [
       "        mmsi                    time  draught destination_country\n",
       "0  205559000  2023-09-09 18:07:29+08     13.7           SINGAPORE\n",
       "1  205083000  2023-09-09 15:35:18+08      5.2           SINGAPORE\n",
       "2  205559000  2023-09-09 09:31:29+08     16.9           SINGAPORE\n",
       "3  205559000  2023-09-09 06:37:27+08     16.9           SINGAPORE\n",
       "4  205559000  2023-09-09 08:19:25+08     16.9           SINGAPORE"
      ]
     },
     "execution_count": 30,
     "metadata": {},
     "output_type": "execute_result"
    }
   ],
   "source": [
    "df_type5.head()"
   ]
  },
  {
   "cell_type": "code",
   "execution_count": 28,
   "id": "7b8eaf53-70a4-43d0-889f-b932acabd485",
   "metadata": {},
   "outputs": [],
   "source": [
    "# df_type1819.to_csv('df_type1819.csv')"
   ]
  },
  {
   "cell_type": "code",
   "execution_count": 29,
   "id": "176954fa-f029-4586-ad81-1c5711aa26ff",
   "metadata": {},
   "outputs": [
    {
     "name": "stdout",
     "output_type": "stream",
     "text": [
      "Read time: 2.7133119106292725\n",
      "Cleaning time: 0.7735941410064697\n",
      "File run time: 6.264193534851074\n"
     ]
    }
   ],
   "source": [
    "file_end_time = time.time()\n",
    "file_execution_time = file_end_time - file_start_time\n",
    "print(\"Read time:\",read_time)\n",
    "print(\"Cleaning time:\",clean_time)\n",
    "print(\"File run time:\",file_execution_time)"
   ]
  }
 ],
 "metadata": {
  "kernelspec": {
   "display_name": "Python 3 (ipykernel)",
   "language": "python",
   "name": "python3"
  },
  "language_info": {
   "codemirror_mode": {
    "name": "ipython",
    "version": 3
   },
   "file_extension": ".py",
   "mimetype": "text/x-python",
   "name": "python",
   "nbconvert_exporter": "python",
   "pygments_lexer": "ipython3",
   "version": "3.9.13"
  }
 },
 "nbformat": 4,
 "nbformat_minor": 5
}
