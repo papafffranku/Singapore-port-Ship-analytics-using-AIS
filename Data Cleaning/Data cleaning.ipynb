{
 "cells": [
  {
   "cell_type": "code",
   "execution_count": 1,
   "id": "ee11d4d7-67ad-455c-b647-1473408f4cb7",
   "metadata": {},
   "outputs": [],
   "source": [
    "import pandas as pd\n",
    "import time"
   ]
  },
  {
   "cell_type": "code",
   "execution_count": 2,
   "id": "78e115ff-fb1c-401b-b3e2-b3e82df56e83",
   "metadata": {},
   "outputs": [],
   "source": [
    "file_start_time = time.time()"
   ]
  },
  {
   "cell_type": "code",
   "execution_count": 3,
   "id": "f265fe27-6044-46f5-b138-ce7a447eae52",
   "metadata": {},
   "outputs": [],
   "source": [
    "header = ['_id', 'type', 'mmsi', 'status', 'turn', 'speed', 'accuracy', 'lon', 'lat', 'course', 'heading', 'time', 'imo', 'callsign', 'shipname', 'shiptype', 'to_bow',\n",
    "          'to_stern', 'to_port', 'to_starboard', 'month', 'day', 'hour', 'minute', 'draught', 'destination']\n",
    "        # tbc header name from country_destination"
   ]
  },
  {
   "cell_type": "code",
   "execution_count": 4,
   "id": "606a63e6-1e75-4f3f-89e1-c633ac9e76c7",
   "metadata": {
    "scrolled": true
   },
   "outputs": [
    {
     "name": "stdout",
     "output_type": "stream",
     "text": [
      "Read time: 167.14272379875183\n"
     ]
    }
   ],
   "source": [
    "start_time = time.time()\n",
    "\n",
    "chunk = pd.read_csv('trial.t.csv',chunksize=100000,lineterminator='\\n', names = header)\n",
    "df = pd.concat(chunk)\n",
    "\n",
    "# start_time = time.time()\n",
    "end_time = time.time()\n",
    "read_time =   end_time - start_time\n",
    "print(\"Read time:\",read_time)\n"
   ]
  },
  {
   "cell_type": "code",
   "execution_count": 8,
   "id": "2e6210b1-7a4d-4d1e-a58c-8bc62fd46bbf",
   "metadata": {},
   "outputs": [
    {
     "data": {
      "text/plain": [
       "27171944    2023-09-30T23:59:55Z\n",
       "27171945    2023-09-30T23:59:55Z\n",
       "27171946    2023-09-30T23:59:55Z\n",
       "27171947    2023-09-30T23:59:55Z\n",
       "27171948    2023-09-30T23:59:55Z\n",
       "Name: time, dtype: object"
      ]
     },
     "execution_count": 8,
     "metadata": {},
     "output_type": "execute_result"
    }
   ],
   "source": [
    "df.time.tail()"
   ]
  },
  {
   "cell_type": "code",
   "execution_count": 9,
   "id": "1fcbcefc-1c24-49f9-92e9-dcf59d9918de",
   "metadata": {},
   "outputs": [
    {
     "name": "stdout",
     "output_type": "stream",
     "text": [
      "Execution time: 9.841086626052856\n"
     ]
    }
   ],
   "source": [
    "start_time = time.time()\n",
    "df.isna().sum()\n",
    "end_time = time.time()\n",
    "execution_time =   end_time - start_time\n",
    "print(\"Execution time:\",execution_time)"
   ]
  },
  {
   "cell_type": "code",
   "execution_count": 10,
   "id": "9d439db8-8b16-4a0a-8944-dfe430ff349c",
   "metadata": {},
   "outputs": [
    {
     "data": {
      "text/plain": [
       "(27171949, 26)"
      ]
     },
     "execution_count": 10,
     "metadata": {},
     "output_type": "execute_result"
    }
   ],
   "source": [
    "df.shape"
   ]
  },
  {
   "cell_type": "markdown",
   "id": "81fbe14f-ad83-430c-900c-95fd9db77795",
   "metadata": {},
   "source": [
    "# Cleaning steps\n",
    "1. Drop message id col\n",
    "2. Split by msg type (123, 5, 1819)\n",
    "3. Remove MMSI less than 9 digits\n",
    "4. Extract SG destination\n",
    "   \n",
    "For 123 and 1819:\n",
    "1. convert status to int\n",
    "\n",
    "For 5:\n",
    "\n",
    "# NA\n",
    "1. Callsign drop non alpha-numeric (callsign ~ '^[A-Za-z0-9]+$'  and > 0)\n",
    "2. Convert shiptype to int\n",
    "4. Drop month, day, hour minute\n"
   ]
  },
  {
   "cell_type": "code",
   "execution_count": 11,
   "id": "acf94933-1f27-4951-a7c0-cca0bee00a8d",
   "metadata": {},
   "outputs": [],
   "source": [
    "clean_start_time = time.time()"
   ]
  },
  {
   "cell_type": "code",
   "execution_count": 12,
   "id": "57e5c8d2-84c4-453a-8753-3ea9f2c0468d",
   "metadata": {},
   "outputs": [],
   "source": [
    "df_clean = df.drop('_id', axis = 1)"
   ]
  },
  {
   "cell_type": "code",
   "execution_count": 14,
   "id": "799ccc79-f5c8-4c03-9132-da2b57e14694",
   "metadata": {},
   "outputs": [
    {
     "data": {
      "text/plain": [
       "(27171949, 25)"
      ]
     },
     "execution_count": 14,
     "metadata": {},
     "output_type": "execute_result"
    }
   ],
   "source": [
    "df_clean.shape"
   ]
  },
  {
   "cell_type": "code",
   "execution_count": 15,
   "id": "8d2a52e9-c5bf-478d-ab4e-e3193d72bae3",
   "metadata": {},
   "outputs": [],
   "source": [
    "# clean mmsi shorter than 9 digits\n",
    "df_clean = df_clean[df_clean.mmsi > 99999999]"
   ]
  },
  {
   "cell_type": "code",
   "execution_count": 16,
   "id": "aa77f7f8-35fc-4e02-9b48-7857f78d92a8",
   "metadata": {},
   "outputs": [
    {
     "data": {
      "text/plain": [
       "(27013326, 25)"
      ]
     },
     "execution_count": 16,
     "metadata": {},
     "output_type": "execute_result"
    }
   ],
   "source": [
    "df_clean.shape"
   ]
  },
  {
   "cell_type": "code",
   "execution_count": 17,
   "id": "08b861ea-7484-45c1-a97f-e84e504190c0",
   "metadata": {},
   "outputs": [
    {
     "name": "stdout",
     "output_type": "stream",
     "text": [
      "(23223013, 10)\n",
      "Execution time: 25.575968980789185\n"
     ]
    }
   ],
   "source": [
    "start_time = time.time()\n",
    "df_type123 = df_clean[df_clean.type <= 3][['mmsi', 'status', 'turn', 'speed', 'accuracy', 'lon', 'lat', 'course', 'heading', 'time']]\n",
    "print(df_type123.shape)\n",
    "end_time = time.time()\n",
    "execution_time =   end_time - start_time\n",
    "print(\"Execution time:\",execution_time)"
   ]
  },
  {
   "cell_type": "code",
   "execution_count": 14,
   "id": "5051a654-035d-42f7-ac35-3ba485a70caa",
   "metadata": {},
   "outputs": [],
   "source": [
    "# start_time = time.time()\n",
    "# df_type5 = df_clean[df_clean.type == 5][['mmsi', 'time', 'draught', 'country_destination']] # cleaned destination \n",
    "# print(df_type5.shape)\n",
    "# end_time = time.time()\n",
    "# execution_time =   end_time - start_time\n",
    "# print(\"Execution time:\",execution_time)"
   ]
  },
  {
   "cell_type": "code",
   "execution_count": 18,
   "id": "befd4441-e8fd-4f82-8249-4d08620a3492",
   "metadata": {},
   "outputs": [
    {
     "name": "stdout",
     "output_type": "stream",
     "text": [
      "(2373177, 7)\n",
      "Execution time: 3.190220832824707\n"
     ]
    }
   ],
   "source": [
    "start_time = time.time()\n",
    "df_type1819 = df_clean[df_clean.type >= 18][['mmsi', 'speed', 'accuracy', 'lon', 'lat', 'course', 'time']]\n",
    "print(df_type1819.shape)\n",
    "end_time = time.time()\n",
    "execution_time =   end_time - start_time\n",
    "print(\"Execution time:\",execution_time)"
   ]
  },
  {
   "cell_type": "markdown",
   "id": "45903b28-d807-4b00-b4d2-9d7a985313e1",
   "metadata": {},
   "source": [
    "# Clean df_type 123"
   ]
  },
  {
   "cell_type": "code",
   "execution_count": 19,
   "id": "b035a76c-aae1-47ec-91cd-b5a2da8e5a4a",
   "metadata": {},
   "outputs": [],
   "source": [
    "# change status to type int\n",
    "df_type123['status'] = df_type123['status'].astype(int)"
   ]
  },
  {
   "cell_type": "code",
   "execution_count": 20,
   "id": "3ac7ae93-1787-45ca-a79a-72c68864c4d5",
   "metadata": {},
   "outputs": [
    {
     "data": {
      "text/plain": [
       "(23223013, 10)"
      ]
     },
     "execution_count": 20,
     "metadata": {},
     "output_type": "execute_result"
    }
   ],
   "source": [
    "df_type123.shape"
   ]
  },
  {
   "cell_type": "code",
   "execution_count": 21,
   "id": "1f0a6028-55cf-4789-9ce9-defa6f06f27f",
   "metadata": {},
   "outputs": [
    {
     "data": {
      "text/plain": [
       "27171943    2023-09-30T23:59:55Z\n",
       "27171945    2023-09-30T23:59:55Z\n",
       "27171946    2023-09-30T23:59:55Z\n",
       "27171947    2023-09-30T23:59:55Z\n",
       "27171948    2023-09-30T23:59:55Z\n",
       "Name: time, dtype: object"
      ]
     },
     "execution_count": 21,
     "metadata": {},
     "output_type": "execute_result"
    }
   ],
   "source": [
    "df_type123.time.tail()"
   ]
  },
  {
   "cell_type": "code",
   "execution_count": 25,
   "id": "7419a9c3-edca-48d0-aa0d-2022e1c94093",
   "metadata": {},
   "outputs": [
    {
     "data": {
      "text/plain": [
       "mmsi          int64\n",
       "status        int32\n",
       "turn        float64\n",
       "speed       float64\n",
       "accuracy    float64\n",
       "lon         float64\n",
       "lat         float64\n",
       "course      float64\n",
       "heading     float64\n",
       "time         object\n",
       "dtype: object"
      ]
     },
     "execution_count": 25,
     "metadata": {},
     "output_type": "execute_result"
    }
   ],
   "source": [
    "df_type123.dtypes"
   ]
  },
  {
   "cell_type": "markdown",
   "id": "1dc767f6-becd-4024-846d-578b9399102a",
   "metadata": {},
   "source": [
    "# Clean df_type 5"
   ]
  },
  {
   "cell_type": "markdown",
   "id": "f24d7393-f31b-4926-b4d7-9f30650c5a53",
   "metadata": {},
   "source": [
    "# Clean df_type 1819"
   ]
  },
  {
   "cell_type": "code",
   "execution_count": 22,
   "id": "b45e44b0-99d3-49cc-b637-4887a85771d7",
   "metadata": {},
   "outputs": [
    {
     "name": "stdout",
     "output_type": "stream",
     "text": [
      "Cleaning time: 118.38731908798218\n"
     ]
    }
   ],
   "source": [
    "clean_end_time = time.time()\n",
    "clean_time =   clean_end_time - clean_start_time\n",
    "print(\"Cleaning time:\",clean_time)"
   ]
  },
  {
   "cell_type": "markdown",
   "id": "ef72b95d-fd5b-440a-a969-ec4fc2eaf7d2",
   "metadata": {
    "jp-MarkdownHeadingCollapsed": true
   },
   "source": [
    "# Destination cleaning (NA)"
   ]
  },
  {
   "cell_type": "code",
   "execution_count": 18,
   "id": "32df68aa-b509-4939-be4a-a00208538c3d",
   "metadata": {},
   "outputs": [],
   "source": [
    "# # Singapore location cleaning\n",
    "# keywords = ['sg', 'singapore', 'sin', 'sgp', 'PEBGA', 'PEBGB', 'PSBG', 'PWBGA', 'PWBGB', 'PJSB', 'PGBG', 'ACBTH', 'ACGP', 'AEBA', 'AEBB', 'AEBC', 'AEPB', 'AEPBB', 'AEPBC', 'AESPA', 'ASCA', 'ASCB', 'AMOW', 'AEW', 'AEPA', 'AEHA', 'AEHC', 'AEHB']\n",
    "\n",
    "# # Function to clean destination data using input\n",
    "# def clean_destination(destination):\n",
    "#     destination = str(destination)\n",
    "#     cleaned_destination = [word.upper() for word in keywords if word.lower() in destination.lower()]\n",
    "#     if cleaned_destination:\n",
    "#         return 'SG'\n",
    "        \n",
    "# # Apply the function to the 'destination' column and create a new column 'destination_clean'\n",
    "# df_clean['destination_clean'] = df_clean['destination'].apply(clean_destination)\n",
    "\n",
    "# # drop destination column\n",
    "# # df_clean = df_clean.drop('destination', axis = 1)"
   ]
  },
  {
   "cell_type": "code",
   "execution_count": 19,
   "id": "97abc12d-fd32-4a10-b7a6-4f6ff9bc0f6c",
   "metadata": {},
   "outputs": [],
   "source": [
    "# df_clean.destination_clean.value_counts()"
   ]
  },
  {
   "cell_type": "code",
   "execution_count": 20,
   "id": "bf7bc756-8e33-4ecc-a3b9-88a9408656ca",
   "metadata": {},
   "outputs": [],
   "source": [
    "# countries_keywords = {\n",
    "#     'SG': ['sg', 'singapore', 'sin', 'sgp'],  # Singapore\n",
    "#     'US': ['us', 'usa', 'america'],  # United States\n",
    "#     'CN': ['cn', 'china', 'prc'],  # China\n",
    "#     'JP': ['jp', 'japan'],  # Japan\n",
    "#     'KR': ['kr', 'south korea'],  # South Korea\n",
    "#     'DE': ['de', 'germany'],  # Germany\n",
    "#     'NL': ['nl', 'netherlands'],  # Netherlands\n",
    "#     'AE': ['ae', 'united arab emirates', 'uae'],  # United Arab Emirates\n",
    "#     'HK': ['hk', 'hong kong'],  # Hong Kong\n",
    "#     'MY': ['my', 'malaysia'],  # Malaysia\n",
    "#     'BR': ['br', 'brazil'],  # Brazil\n",
    "#     'AU': ['au', 'australia'],  # Australia\n",
    "#     'ID': ['id', 'indonesia'],  # Indonesia\n",
    "#     'TH': ['th', 'thailand'],  # Thailand\n",
    "#     'VN': ['vn', 'vietnam'],  # Vietnam\n",
    "#     'PH': ['ph', 'philippines'],  # Philippines\n",
    "#     'MM': ['mm', 'myanmar'],  # Myanmar\n",
    "#     'KH': ['kh', 'cambodia'],  # Cambodia\n",
    "#     'LA': ['la', 'lao', 'laos'],  # Laos\n",
    "#     'BN': ['bn', 'brunei'],  # Brunei\n",
    "#     'TL': ['tl', 'timor-leste'],  # Timor-Leste\n",
    "#     'IN': ['in', 'india'],  # India\n",
    "#     'PK': ['pk', 'pakistan'],  # Pakistan\n",
    "#     'BD': ['bd', 'bangladesh'],  # Bangladesh\n",
    "#     'LK': ['lk', 'sri lanka'],  # Sri Lanka\n",
    "#     'NP': ['np', 'nepal'],  # Nepal\n",
    "#     'MM': ['mm', 'myanmar'],  # Myanmar\n",
    "#     # Add more countries and their keywords as needed\n",
    "# }"
   ]
  },
  {
   "cell_type": "code",
   "execution_count": 21,
   "id": "2fc08bb2-3ecd-43f1-b576-c31937380d10",
   "metadata": {},
   "outputs": [],
   "source": [
    "# start_time = time.time()\n",
    "\n",
    "# for code, keywords in countries_keywords.items():\n",
    "#     def clean_destination(destination):\n",
    "#         destination = str(destination)\n",
    "#         cleaned_destination = [word.upper() for word in keywords if word.lower() in destination.lower()]\n",
    "#         if cleaned_destination:\n",
    "#             return code\n",
    "\n",
    "#     df_clean['destination_clean'] = df_clean['destination'].apply(clean_destination)\n",
    "\n",
    "# end_time = time.time()\n",
    "# execution_time =   end_time - start_time\n",
    "# print(\"Execution time:\",execution_time)\n",
    "# df_clean.destination_clean.value_counts()"
   ]
  },
  {
   "cell_type": "code",
   "execution_count": 22,
   "id": "8e483328-0c71-4175-92b3-769ae7361be9",
   "metadata": {},
   "outputs": [],
   "source": [
    "# def clean_destination(row):\n",
    "#     destination = str(row['destination'].lower())\n",
    "#     for code, keywords in countries_keywords.items():\n",
    "#         if any(keyword in destination for keyword in keywords):\n",
    "#             return code.upper()\n",
    "#     return None"
   ]
  },
  {
   "cell_type": "code",
   "execution_count": 23,
   "id": "ccaeed1b-536f-46b6-9775-62a8b1486884",
   "metadata": {},
   "outputs": [],
   "source": [
    "# # Apply the clean_destination function to create 'destination_clean' column\n",
    "# df_clean['destination_clean'] = df_clean.apply(clean_destination, axis=1)"
   ]
  },
  {
   "cell_type": "code",
   "execution_count": 24,
   "id": "9e5ee70a-63c5-43f8-97c4-d4b8d9586c1c",
   "metadata": {},
   "outputs": [],
   "source": [
    "# df_clean.destination_clean.value_counts()"
   ]
  },
  {
   "cell_type": "markdown",
   "id": "95d7534c-1c2d-4c7d-9ab8-5972e3dc5a82",
   "metadata": {},
   "source": [
    "# All cleaning steps completed, save to csv"
   ]
  },
  {
   "cell_type": "code",
   "execution_count": 25,
   "id": "a7da00eb-576c-4efe-a693-fc0b43c160fe",
   "metadata": {},
   "outputs": [],
   "source": [
    "# df_clean.to_csv('df_clean.csv')"
   ]
  },
  {
   "cell_type": "code",
   "execution_count": 23,
   "id": "8624e56b-ae34-4572-94d7-fd624818588a",
   "metadata": {},
   "outputs": [],
   "source": [
    "df_type123.to_csv('df_type123.csv')"
   ]
  },
  {
   "cell_type": "code",
   "execution_count": 30,
   "id": "1969b75c-f067-4de0-9008-014535625078",
   "metadata": {},
   "outputs": [
    {
     "data": {
      "text/html": [
       "<div>\n",
       "<style scoped>\n",
       "    .dataframe tbody tr th:only-of-type {\n",
       "        vertical-align: middle;\n",
       "    }\n",
       "\n",
       "    .dataframe tbody tr th {\n",
       "        vertical-align: top;\n",
       "    }\n",
       "\n",
       "    .dataframe thead th {\n",
       "        text-align: right;\n",
       "    }\n",
       "</style>\n",
       "<table border=\"1\" class=\"dataframe\">\n",
       "  <thead>\n",
       "    <tr style=\"text-align: right;\">\n",
       "      <th></th>\n",
       "      <th>mmsi</th>\n",
       "      <th>status</th>\n",
       "      <th>turn</th>\n",
       "      <th>speed</th>\n",
       "      <th>accuracy</th>\n",
       "      <th>lon</th>\n",
       "      <th>lat</th>\n",
       "      <th>course</th>\n",
       "      <th>heading</th>\n",
       "      <th>time</th>\n",
       "    </tr>\n",
       "  </thead>\n",
       "  <tbody>\n",
       "    <tr>\n",
       "      <th>0</th>\n",
       "      <td>357007000</td>\n",
       "      <td>0</td>\n",
       "      <td>0.0</td>\n",
       "      <td>8.7</td>\n",
       "      <td>1.0</td>\n",
       "      <td>103.71341</td>\n",
       "      <td>1.15643</td>\n",
       "      <td>299.3</td>\n",
       "      <td>295.0</td>\n",
       "      <td>2023-09-01T00:00:00Z</td>\n",
       "    </tr>\n",
       "    <tr>\n",
       "      <th>1</th>\n",
       "      <td>477058300</td>\n",
       "      <td>1</td>\n",
       "      <td>0.0</td>\n",
       "      <td>0.0</td>\n",
       "      <td>1.0</td>\n",
       "      <td>103.56141</td>\n",
       "      <td>1.26156</td>\n",
       "      <td>287.0</td>\n",
       "      <td>100.0</td>\n",
       "      <td>2023-09-01T00:00:23Z</td>\n",
       "    </tr>\n",
       "    <tr>\n",
       "      <th>2</th>\n",
       "      <td>563542000</td>\n",
       "      <td>8</td>\n",
       "      <td>0.0</td>\n",
       "      <td>6.5</td>\n",
       "      <td>0.0</td>\n",
       "      <td>103.75856</td>\n",
       "      <td>1.26569</td>\n",
       "      <td>292.4</td>\n",
       "      <td>292.0</td>\n",
       "      <td>2023-09-01T00:00:23Z</td>\n",
       "    </tr>\n",
       "    <tr>\n",
       "      <th>3</th>\n",
       "      <td>563185100</td>\n",
       "      <td>0</td>\n",
       "      <td>0.0</td>\n",
       "      <td>0.0</td>\n",
       "      <td>0.0</td>\n",
       "      <td>103.76013</td>\n",
       "      <td>1.29132</td>\n",
       "      <td>261.6</td>\n",
       "      <td>189.0</td>\n",
       "      <td>2023-09-01T00:00:23Z</td>\n",
       "    </tr>\n",
       "    <tr>\n",
       "      <th>4</th>\n",
       "      <td>373943000</td>\n",
       "      <td>0</td>\n",
       "      <td>0.0</td>\n",
       "      <td>11.8</td>\n",
       "      <td>1.0</td>\n",
       "      <td>103.71131</td>\n",
       "      <td>1.07439</td>\n",
       "      <td>53.8</td>\n",
       "      <td>58.0</td>\n",
       "      <td>2023-09-01T00:00:45Z</td>\n",
       "    </tr>\n",
       "  </tbody>\n",
       "</table>\n",
       "</div>"
      ],
      "text/plain": [
       "        mmsi  status  turn  speed  accuracy        lon      lat  course  \\\n",
       "0  357007000       0   0.0    8.7       1.0  103.71341  1.15643   299.3   \n",
       "1  477058300       1   0.0    0.0       1.0  103.56141  1.26156   287.0   \n",
       "2  563542000       8   0.0    6.5       0.0  103.75856  1.26569   292.4   \n",
       "3  563185100       0   0.0    0.0       0.0  103.76013  1.29132   261.6   \n",
       "4  373943000       0   0.0   11.8       1.0  103.71131  1.07439    53.8   \n",
       "\n",
       "   heading                  time  \n",
       "0    295.0  2023-09-01T00:00:00Z  \n",
       "1    100.0  2023-09-01T00:00:23Z  \n",
       "2    292.0  2023-09-01T00:00:23Z  \n",
       "3    189.0  2023-09-01T00:00:23Z  \n",
       "4     58.0  2023-09-01T00:00:45Z  "
      ]
     },
     "execution_count": 30,
     "metadata": {},
     "output_type": "execute_result"
    }
   ],
   "source": [
    "df_type123.time"
   ]
  },
  {
   "cell_type": "code",
   "execution_count": 27,
   "id": "988ecbad-3b60-44a7-af4c-fc2018910ef2",
   "metadata": {},
   "outputs": [],
   "source": [
    "# df_type5.to_csv('df_type5.csv')"
   ]
  },
  {
   "cell_type": "code",
   "execution_count": 28,
   "id": "7b8eaf53-70a4-43d0-889f-b932acabd485",
   "metadata": {},
   "outputs": [],
   "source": [
    "df_type1819.to_csv('df_type1819.csv')"
   ]
  },
  {
   "cell_type": "code",
   "execution_count": 26,
   "id": "0ff2b839-caa8-4a67-91e7-0b6bce3ef24b",
   "metadata": {},
   "outputs": [
    {
     "data": {
      "text/html": [
       "<div>\n",
       "<style scoped>\n",
       "    .dataframe tbody tr th:only-of-type {\n",
       "        vertical-align: middle;\n",
       "    }\n",
       "\n",
       "    .dataframe tbody tr th {\n",
       "        vertical-align: top;\n",
       "    }\n",
       "\n",
       "    .dataframe thead th {\n",
       "        text-align: right;\n",
       "    }\n",
       "</style>\n",
       "<table border=\"1\" class=\"dataframe\">\n",
       "  <thead>\n",
       "    <tr style=\"text-align: right;\">\n",
       "      <th></th>\n",
       "      <th>mmsi</th>\n",
       "      <th>speed</th>\n",
       "      <th>accuracy</th>\n",
       "      <th>lon</th>\n",
       "      <th>lat</th>\n",
       "      <th>course</th>\n",
       "      <th>time</th>\n",
       "    </tr>\n",
       "  </thead>\n",
       "  <tbody>\n",
       "    <tr>\n",
       "      <th>27171915</th>\n",
       "      <td>563023730</td>\n",
       "      <td>0.1</td>\n",
       "      <td>1.0</td>\n",
       "      <td>103.74246</td>\n",
       "      <td>1.29788</td>\n",
       "      <td>0.0</td>\n",
       "      <td>2023-09-30T23:59:53Z</td>\n",
       "    </tr>\n",
       "    <tr>\n",
       "      <th>27171920</th>\n",
       "      <td>563075660</td>\n",
       "      <td>0.1</td>\n",
       "      <td>1.0</td>\n",
       "      <td>103.75532</td>\n",
       "      <td>1.29455</td>\n",
       "      <td>58.3</td>\n",
       "      <td>2023-09-30T23:59:53Z</td>\n",
       "    </tr>\n",
       "    <tr>\n",
       "      <th>27171923</th>\n",
       "      <td>563013440</td>\n",
       "      <td>0.0</td>\n",
       "      <td>1.0</td>\n",
       "      <td>103.68815</td>\n",
       "      <td>1.25244</td>\n",
       "      <td>0.0</td>\n",
       "      <td>2023-09-30T23:59:54Z</td>\n",
       "    </tr>\n",
       "    <tr>\n",
       "      <th>27171935</th>\n",
       "      <td>542437110</td>\n",
       "      <td>3.8</td>\n",
       "      <td>1.0</td>\n",
       "      <td>103.75992</td>\n",
       "      <td>1.29340</td>\n",
       "      <td>87.8</td>\n",
       "      <td>2023-09-30T23:59:54Z</td>\n",
       "    </tr>\n",
       "    <tr>\n",
       "      <th>27171938</th>\n",
       "      <td>563021740</td>\n",
       "      <td>5.9</td>\n",
       "      <td>1.0</td>\n",
       "      <td>103.73118</td>\n",
       "      <td>1.29542</td>\n",
       "      <td>146.4</td>\n",
       "      <td>2023-09-30T23:59:54Z</td>\n",
       "    </tr>\n",
       "  </tbody>\n",
       "</table>\n",
       "</div>"
      ],
      "text/plain": [
       "               mmsi  speed  accuracy        lon      lat  course  \\\n",
       "27171915  563023730    0.1       1.0  103.74246  1.29788     0.0   \n",
       "27171920  563075660    0.1       1.0  103.75532  1.29455    58.3   \n",
       "27171923  563013440    0.0       1.0  103.68815  1.25244     0.0   \n",
       "27171935  542437110    3.8       1.0  103.75992  1.29340    87.8   \n",
       "27171938  563021740    5.9       1.0  103.73118  1.29542   146.4   \n",
       "\n",
       "                          time  \n",
       "27171915  2023-09-30T23:59:53Z  \n",
       "27171920  2023-09-30T23:59:53Z  \n",
       "27171923  2023-09-30T23:59:54Z  \n",
       "27171935  2023-09-30T23:59:54Z  \n",
       "27171938  2023-09-30T23:59:54Z  "
      ]
     },
     "execution_count": 26,
     "metadata": {},
     "output_type": "execute_result"
    }
   ],
   "source": [
    "df_type1819.tail()"
   ]
  },
  {
   "cell_type": "code",
   "execution_count": 29,
   "id": "176954fa-f029-4586-ad81-1c5711aa26ff",
   "metadata": {},
   "outputs": [
    {
     "name": "stdout",
     "output_type": "stream",
     "text": [
      "Read time: 59.438124656677246\n",
      "Cleaning time: 34.3142032623291\n",
      "File run time: 188.96060848236084\n"
     ]
    }
   ],
   "source": [
    "file_end_time = time.time()\n",
    "file_execution_time = file_end_time - file_start_time\n",
    "print(\"Read time:\",read_time)\n",
    "print(\"Cleaning time:\",clean_time)\n",
    "print(\"File run time:\",file_execution_time)"
   ]
  }
 ],
 "metadata": {
  "kernelspec": {
   "display_name": "Python 3 (ipykernel)",
   "language": "python",
   "name": "python3"
  },
  "language_info": {
   "codemirror_mode": {
    "name": "ipython",
    "version": 3
   },
   "file_extension": ".py",
   "mimetype": "text/x-python",
   "name": "python",
   "nbconvert_exporter": "python",
   "pygments_lexer": "ipython3",
   "version": "3.9.13"
  }
 },
 "nbformat": 4,
 "nbformat_minor": 5
}
