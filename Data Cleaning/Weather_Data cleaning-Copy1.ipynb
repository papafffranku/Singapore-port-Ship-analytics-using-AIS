{
 "cells": [
  {
   "cell_type": "code",
   "execution_count": 2,
   "id": "ee11d4d7-67ad-455c-b647-1473408f4cb7",
   "metadata": {},
   "outputs": [],
   "source": [
    "import pandas as pd\n",
    "import time"
   ]
  },
  {
   "cell_type": "code",
   "execution_count": 2,
   "id": "78e115ff-fb1c-401b-b3e2-b3e82df56e83",
   "metadata": {},
   "outputs": [],
   "source": [
    "file_start_time = time.time()"
   ]
  },
  {
   "cell_type": "code",
   "execution_count": 3,
   "id": "f265fe27-6044-46f5-b138-ce7a447eae52",
   "metadata": {},
   "outputs": [],
   "source": [
    "# header = ['_id', 'type', 'mmsi', 'status', 'turn', 'speed', 'accuracy', 'lon', 'lat', 'course', 'heading', 'time', 'imo', 'callsign', 'shipname', 'shiptype', 'to_bow',\n",
    "#           'to_stern', 'to_port', 'to_starboard', 'month', 'day', 'hour', 'minute', 'draught', 'destination', 'destination_country',\t'shiptype_vessel',\t\n",
    "#           'vessel_flag', 'vessel_flag_continent',' vessel_flag_country_code\\r']\n",
    "#         # tbc header name from country_destination"
   ]
  },
  {
   "cell_type": "code",
   "execution_count": 6,
   "id": "606a63e6-1e75-4f3f-89e1-c633ac9e76c7",
   "metadata": {
    "scrolled": true
   },
   "outputs": [
    {
     "name": "stdout",
     "output_type": "stream",
     "text": [
      "Read time: 0.5077319145202637\n"
     ]
    }
   ],
   "source": [
    "start_time = time.time()\n",
    "\n",
    "# chunk = pd.read_csv('cleaned_type5.csv',chunksize=100000,lineterminator='\\n')\n",
    "df = pd.read_excel('hourly weather_singapore 2023-09-01 to 2023-09-30.xlsx')\n",
    "# df = pd.concat(chunk)\n",
    "\n",
    "# start_time = time.time()\n",
    "end_time = time.time()\n",
    "read_time =   end_time - start_time\n",
    "print(\"Read time:\",read_time)\n"
   ]
  },
  {
   "cell_type": "code",
   "execution_count": 29,
   "id": "2e6210b1-7a4d-4d1e-a58c-8bc62fd46bbf",
   "metadata": {},
   "outputs": [
    {
     "data": {
      "text/html": [
       "<div>\n",
       "<style scoped>\n",
       "    .dataframe tbody tr th:only-of-type {\n",
       "        vertical-align: middle;\n",
       "    }\n",
       "\n",
       "    .dataframe tbody tr th {\n",
       "        vertical-align: top;\n",
       "    }\n",
       "\n",
       "    .dataframe thead th {\n",
       "        text-align: right;\n",
       "    }\n",
       "</style>\n",
       "<table border=\"1\" class=\"dataframe\">\n",
       "  <thead>\n",
       "    <tr style=\"text-align: right;\">\n",
       "      <th></th>\n",
       "      <th>name</th>\n",
       "      <th>datetime</th>\n",
       "      <th>temp</th>\n",
       "      <th>feelslike</th>\n",
       "      <th>dew</th>\n",
       "      <th>humidity</th>\n",
       "      <th>precip</th>\n",
       "      <th>precipprob</th>\n",
       "      <th>preciptype</th>\n",
       "      <th>snow</th>\n",
       "      <th>...</th>\n",
       "      <th>sealevelpressure</th>\n",
       "      <th>cloudcover</th>\n",
       "      <th>visibility</th>\n",
       "      <th>solarradiation</th>\n",
       "      <th>solarenergy</th>\n",
       "      <th>uvindex</th>\n",
       "      <th>severerisk</th>\n",
       "      <th>conditions</th>\n",
       "      <th>icon</th>\n",
       "      <th>stations</th>\n",
       "    </tr>\n",
       "  </thead>\n",
       "  <tbody>\n",
       "    <tr>\n",
       "      <th>715</th>\n",
       "      <td>singapore</td>\n",
       "      <td>2023-09-30 19:00:00</td>\n",
       "      <td>28.0</td>\n",
       "      <td>30.5</td>\n",
       "      <td>21.6</td>\n",
       "      <td>68.27</td>\n",
       "      <td>0.0</td>\n",
       "      <td>0</td>\n",
       "      <td>NaN</td>\n",
       "      <td>0.0</td>\n",
       "      <td>...</td>\n",
       "      <td>1010.1</td>\n",
       "      <td>88.0</td>\n",
       "      <td>8.6</td>\n",
       "      <td>31</td>\n",
       "      <td>0.1</td>\n",
       "      <td>0</td>\n",
       "      <td>30</td>\n",
       "      <td>Partially cloudy</td>\n",
       "      <td>partly-cloudy-night</td>\n",
       "      <td>48698099999,48679099999,WSAP,48694099999,48699...</td>\n",
       "    </tr>\n",
       "    <tr>\n",
       "      <th>716</th>\n",
       "      <td>singapore</td>\n",
       "      <td>2023-09-30 20:00:00</td>\n",
       "      <td>27.9</td>\n",
       "      <td>31.0</td>\n",
       "      <td>22.7</td>\n",
       "      <td>73.28</td>\n",
       "      <td>0.0</td>\n",
       "      <td>0</td>\n",
       "      <td>NaN</td>\n",
       "      <td>NaN</td>\n",
       "      <td>...</td>\n",
       "      <td>1010.7</td>\n",
       "      <td>89.2</td>\n",
       "      <td>9.1</td>\n",
       "      <td>0</td>\n",
       "      <td>0.0</td>\n",
       "      <td>0</td>\n",
       "      <td>10</td>\n",
       "      <td>Partially cloudy</td>\n",
       "      <td>partly-cloudy-night</td>\n",
       "      <td>48698099999,48679099999,WSAP,48694099999,48699...</td>\n",
       "    </tr>\n",
       "    <tr>\n",
       "      <th>717</th>\n",
       "      <td>singapore</td>\n",
       "      <td>2023-09-30 21:00:00</td>\n",
       "      <td>27.1</td>\n",
       "      <td>30.1</td>\n",
       "      <td>23.7</td>\n",
       "      <td>82.11</td>\n",
       "      <td>0.0</td>\n",
       "      <td>0</td>\n",
       "      <td>NaN</td>\n",
       "      <td>0.0</td>\n",
       "      <td>...</td>\n",
       "      <td>1011.1</td>\n",
       "      <td>89.1</td>\n",
       "      <td>9.1</td>\n",
       "      <td>0</td>\n",
       "      <td>0.0</td>\n",
       "      <td>0</td>\n",
       "      <td>10</td>\n",
       "      <td>Partially cloudy</td>\n",
       "      <td>partly-cloudy-night</td>\n",
       "      <td>48698099999,48679099999,WSAP,48694099999,48699...</td>\n",
       "    </tr>\n",
       "    <tr>\n",
       "      <th>718</th>\n",
       "      <td>singapore</td>\n",
       "      <td>2023-09-30 22:00:00</td>\n",
       "      <td>27.0</td>\n",
       "      <td>30.3</td>\n",
       "      <td>24.3</td>\n",
       "      <td>85.20</td>\n",
       "      <td>0.0</td>\n",
       "      <td>0</td>\n",
       "      <td>NaN</td>\n",
       "      <td>0.0</td>\n",
       "      <td>...</td>\n",
       "      <td>1012.0</td>\n",
       "      <td>89.1</td>\n",
       "      <td>9.1</td>\n",
       "      <td>0</td>\n",
       "      <td>0.0</td>\n",
       "      <td>0</td>\n",
       "      <td>10</td>\n",
       "      <td>Partially cloudy</td>\n",
       "      <td>partly-cloudy-night</td>\n",
       "      <td>48698099999,48679099999,WSAP,48694099999,48699...</td>\n",
       "    </tr>\n",
       "    <tr>\n",
       "      <th>719</th>\n",
       "      <td>singapore</td>\n",
       "      <td>2023-09-30 23:00:00</td>\n",
       "      <td>27.0</td>\n",
       "      <td>30.0</td>\n",
       "      <td>23.8</td>\n",
       "      <td>82.48</td>\n",
       "      <td>0.0</td>\n",
       "      <td>0</td>\n",
       "      <td>NaN</td>\n",
       "      <td>0.0</td>\n",
       "      <td>...</td>\n",
       "      <td>1012.0</td>\n",
       "      <td>89.2</td>\n",
       "      <td>8.8</td>\n",
       "      <td>0</td>\n",
       "      <td>0.0</td>\n",
       "      <td>0</td>\n",
       "      <td>10</td>\n",
       "      <td>Partially cloudy</td>\n",
       "      <td>partly-cloudy-night</td>\n",
       "      <td>48698099999,48679099999,WSAP,48694099999,48699...</td>\n",
       "    </tr>\n",
       "  </tbody>\n",
       "</table>\n",
       "<p>5 rows × 24 columns</p>\n",
       "</div>"
      ],
      "text/plain": [
       "          name            datetime  temp  feelslike   dew  humidity  precip  \\\n",
       "715  singapore 2023-09-30 19:00:00  28.0       30.5  21.6     68.27     0.0   \n",
       "716  singapore 2023-09-30 20:00:00  27.9       31.0  22.7     73.28     0.0   \n",
       "717  singapore 2023-09-30 21:00:00  27.1       30.1  23.7     82.11     0.0   \n",
       "718  singapore 2023-09-30 22:00:00  27.0       30.3  24.3     85.20     0.0   \n",
       "719  singapore 2023-09-30 23:00:00  27.0       30.0  23.8     82.48     0.0   \n",
       "\n",
       "     precipprob preciptype  snow  ...  sealevelpressure  cloudcover  \\\n",
       "715           0        NaN   0.0  ...            1010.1        88.0   \n",
       "716           0        NaN   NaN  ...            1010.7        89.2   \n",
       "717           0        NaN   0.0  ...            1011.1        89.1   \n",
       "718           0        NaN   0.0  ...            1012.0        89.1   \n",
       "719           0        NaN   0.0  ...            1012.0        89.2   \n",
       "\n",
       "     visibility  solarradiation  solarenergy  uvindex  severerisk  \\\n",
       "715         8.6              31          0.1        0          30   \n",
       "716         9.1               0          0.0        0          10   \n",
       "717         9.1               0          0.0        0          10   \n",
       "718         9.1               0          0.0        0          10   \n",
       "719         8.8               0          0.0        0          10   \n",
       "\n",
       "           conditions                 icon  \\\n",
       "715  Partially cloudy  partly-cloudy-night   \n",
       "716  Partially cloudy  partly-cloudy-night   \n",
       "717  Partially cloudy  partly-cloudy-night   \n",
       "718  Partially cloudy  partly-cloudy-night   \n",
       "719  Partially cloudy  partly-cloudy-night   \n",
       "\n",
       "                                              stations  \n",
       "715  48698099999,48679099999,WSAP,48694099999,48699...  \n",
       "716  48698099999,48679099999,WSAP,48694099999,48699...  \n",
       "717  48698099999,48679099999,WSAP,48694099999,48699...  \n",
       "718  48698099999,48679099999,WSAP,48694099999,48699...  \n",
       "719  48698099999,48679099999,WSAP,48694099999,48699...  \n",
       "\n",
       "[5 rows x 24 columns]"
      ]
     },
     "execution_count": 29,
     "metadata": {},
     "output_type": "execute_result"
    }
   ],
   "source": [
    "df.tail()"
   ]
  },
  {
   "cell_type": "code",
   "execution_count": 8,
   "id": "07427760-4d10-4fc8-a606-99628fd250ad",
   "metadata": {},
   "outputs": [
    {
     "data": {
      "text/html": [
       "<div>\n",
       "<style scoped>\n",
       "    .dataframe tbody tr th:only-of-type {\n",
       "        vertical-align: middle;\n",
       "    }\n",
       "\n",
       "    .dataframe tbody tr th {\n",
       "        vertical-align: top;\n",
       "    }\n",
       "\n",
       "    .dataframe thead th {\n",
       "        text-align: right;\n",
       "    }\n",
       "</style>\n",
       "<table border=\"1\" class=\"dataframe\">\n",
       "  <thead>\n",
       "    <tr style=\"text-align: right;\">\n",
       "      <th></th>\n",
       "      <th>datetime</th>\n",
       "      <th>temp</th>\n",
       "      <th>feelslike</th>\n",
       "      <th>dew</th>\n",
       "      <th>humidity</th>\n",
       "      <th>precip</th>\n",
       "      <th>precipprob</th>\n",
       "      <th>snow</th>\n",
       "      <th>snowdepth</th>\n",
       "      <th>windgust</th>\n",
       "      <th>windspeed</th>\n",
       "      <th>winddir</th>\n",
       "      <th>sealevelpressure</th>\n",
       "      <th>cloudcover</th>\n",
       "      <th>visibility</th>\n",
       "      <th>solarradiation</th>\n",
       "      <th>solarenergy</th>\n",
       "      <th>uvindex</th>\n",
       "      <th>severerisk</th>\n",
       "    </tr>\n",
       "  </thead>\n",
       "  <tbody>\n",
       "    <tr>\n",
       "      <th>count</th>\n",
       "      <td>720</td>\n",
       "      <td>720.000000</td>\n",
       "      <td>720.000000</td>\n",
       "      <td>720.000000</td>\n",
       "      <td>720.000000</td>\n",
       "      <td>720.000000</td>\n",
       "      <td>720.000000</td>\n",
       "      <td>600.0</td>\n",
       "      <td>0.0</td>\n",
       "      <td>720.000000</td>\n",
       "      <td>720.000000</td>\n",
       "      <td>720.000000</td>\n",
       "      <td>720.000000</td>\n",
       "      <td>720.000000</td>\n",
       "      <td>720.000000</td>\n",
       "      <td>720.000000</td>\n",
       "      <td>720.000000</td>\n",
       "      <td>720.000000</td>\n",
       "      <td>720.000000</td>\n",
       "    </tr>\n",
       "    <tr>\n",
       "      <th>mean</th>\n",
       "      <td>2023-09-15 23:30:00</td>\n",
       "      <td>28.638194</td>\n",
       "      <td>32.534583</td>\n",
       "      <td>24.214306</td>\n",
       "      <td>77.861806</td>\n",
       "      <td>0.202025</td>\n",
       "      <td>3.888889</td>\n",
       "      <td>0.0</td>\n",
       "      <td>NaN</td>\n",
       "      <td>19.026667</td>\n",
       "      <td>10.817778</td>\n",
       "      <td>138.854167</td>\n",
       "      <td>1009.909861</td>\n",
       "      <td>84.974861</td>\n",
       "      <td>9.569167</td>\n",
       "      <td>260.390278</td>\n",
       "      <td>0.938056</td>\n",
       "      <td>2.613889</td>\n",
       "      <td>21.387500</td>\n",
       "    </tr>\n",
       "    <tr>\n",
       "      <th>min</th>\n",
       "      <td>2023-09-01 00:00:00</td>\n",
       "      <td>24.000000</td>\n",
       "      <td>24.000000</td>\n",
       "      <td>20.400000</td>\n",
       "      <td>50.650000</td>\n",
       "      <td>0.000000</td>\n",
       "      <td>0.000000</td>\n",
       "      <td>0.0</td>\n",
       "      <td>NaN</td>\n",
       "      <td>1.400000</td>\n",
       "      <td>3.300000</td>\n",
       "      <td>1.000000</td>\n",
       "      <td>1005.700000</td>\n",
       "      <td>49.600000</td>\n",
       "      <td>2.300000</td>\n",
       "      <td>0.000000</td>\n",
       "      <td>0.000000</td>\n",
       "      <td>0.000000</td>\n",
       "      <td>3.000000</td>\n",
       "    </tr>\n",
       "    <tr>\n",
       "      <th>25%</th>\n",
       "      <td>2023-09-08 11:45:00</td>\n",
       "      <td>27.400000</td>\n",
       "      <td>31.000000</td>\n",
       "      <td>23.600000</td>\n",
       "      <td>69.467500</td>\n",
       "      <td>0.000000</td>\n",
       "      <td>0.000000</td>\n",
       "      <td>0.0</td>\n",
       "      <td>NaN</td>\n",
       "      <td>14.000000</td>\n",
       "      <td>7.300000</td>\n",
       "      <td>91.000000</td>\n",
       "      <td>1009.000000</td>\n",
       "      <td>88.000000</td>\n",
       "      <td>9.500000</td>\n",
       "      <td>0.000000</td>\n",
       "      <td>0.000000</td>\n",
       "      <td>0.000000</td>\n",
       "      <td>10.000000</td>\n",
       "    </tr>\n",
       "    <tr>\n",
       "      <th>50%</th>\n",
       "      <td>2023-09-15 23:30:00</td>\n",
       "      <td>28.400000</td>\n",
       "      <td>33.000000</td>\n",
       "      <td>24.300000</td>\n",
       "      <td>79.410000</td>\n",
       "      <td>0.000000</td>\n",
       "      <td>0.000000</td>\n",
       "      <td>0.0</td>\n",
       "      <td>NaN</td>\n",
       "      <td>19.800000</td>\n",
       "      <td>9.900000</td>\n",
       "      <td>123.000000</td>\n",
       "      <td>1010.000000</td>\n",
       "      <td>88.550000</td>\n",
       "      <td>10.000000</td>\n",
       "      <td>1.500000</td>\n",
       "      <td>0.000000</td>\n",
       "      <td>0.000000</td>\n",
       "      <td>30.000000</td>\n",
       "    </tr>\n",
       "    <tr>\n",
       "      <th>75%</th>\n",
       "      <td>2023-09-23 11:15:00</td>\n",
       "      <td>30.000000</td>\n",
       "      <td>35.200000</td>\n",
       "      <td>24.700000</td>\n",
       "      <td>85.695000</td>\n",
       "      <td>0.000000</td>\n",
       "      <td>0.000000</td>\n",
       "      <td>0.0</td>\n",
       "      <td>NaN</td>\n",
       "      <td>24.100000</td>\n",
       "      <td>13.900000</td>\n",
       "      <td>167.250000</td>\n",
       "      <td>1011.000000</td>\n",
       "      <td>89.100000</td>\n",
       "      <td>10.000000</td>\n",
       "      <td>547.000000</td>\n",
       "      <td>2.000000</td>\n",
       "      <td>5.250000</td>\n",
       "      <td>30.000000</td>\n",
       "    </tr>\n",
       "    <tr>\n",
       "      <th>max</th>\n",
       "      <td>2023-09-30 23:00:00</td>\n",
       "      <td>33.000000</td>\n",
       "      <td>39.900000</td>\n",
       "      <td>26.300000</td>\n",
       "      <td>99.300000</td>\n",
       "      <td>41.673000</td>\n",
       "      <td>100.000000</td>\n",
       "      <td>0.0</td>\n",
       "      <td>NaN</td>\n",
       "      <td>46.400000</td>\n",
       "      <td>32.800000</td>\n",
       "      <td>360.000000</td>\n",
       "      <td>1013.700000</td>\n",
       "      <td>99.800000</td>\n",
       "      <td>10.700000</td>\n",
       "      <td>1018.000000</td>\n",
       "      <td>3.700000</td>\n",
       "      <td>10.000000</td>\n",
       "      <td>60.000000</td>\n",
       "    </tr>\n",
       "    <tr>\n",
       "      <th>std</th>\n",
       "      <td>NaN</td>\n",
       "      <td>1.983443</td>\n",
       "      <td>3.710795</td>\n",
       "      <td>0.900211</td>\n",
       "      <td>10.847429</td>\n",
       "      <td>2.148192</td>\n",
       "      <td>19.346454</td>\n",
       "      <td>0.0</td>\n",
       "      <td>NaN</td>\n",
       "      <td>6.767155</td>\n",
       "      <td>4.477220</td>\n",
       "      <td>80.034534</td>\n",
       "      <td>1.434989</td>\n",
       "      <td>8.786748</td>\n",
       "      <td>1.088092</td>\n",
       "      <td>346.503134</td>\n",
       "      <td>1.247026</td>\n",
       "      <td>3.472255</td>\n",
       "      <td>12.874752</td>\n",
       "    </tr>\n",
       "  </tbody>\n",
       "</table>\n",
       "</div>"
      ],
      "text/plain": [
       "                  datetime        temp   feelslike         dew    humidity  \\\n",
       "count                  720  720.000000  720.000000  720.000000  720.000000   \n",
       "mean   2023-09-15 23:30:00   28.638194   32.534583   24.214306   77.861806   \n",
       "min    2023-09-01 00:00:00   24.000000   24.000000   20.400000   50.650000   \n",
       "25%    2023-09-08 11:45:00   27.400000   31.000000   23.600000   69.467500   \n",
       "50%    2023-09-15 23:30:00   28.400000   33.000000   24.300000   79.410000   \n",
       "75%    2023-09-23 11:15:00   30.000000   35.200000   24.700000   85.695000   \n",
       "max    2023-09-30 23:00:00   33.000000   39.900000   26.300000   99.300000   \n",
       "std                    NaN    1.983443    3.710795    0.900211   10.847429   \n",
       "\n",
       "           precip  precipprob   snow  snowdepth    windgust   windspeed  \\\n",
       "count  720.000000  720.000000  600.0        0.0  720.000000  720.000000   \n",
       "mean     0.202025    3.888889    0.0        NaN   19.026667   10.817778   \n",
       "min      0.000000    0.000000    0.0        NaN    1.400000    3.300000   \n",
       "25%      0.000000    0.000000    0.0        NaN   14.000000    7.300000   \n",
       "50%      0.000000    0.000000    0.0        NaN   19.800000    9.900000   \n",
       "75%      0.000000    0.000000    0.0        NaN   24.100000   13.900000   \n",
       "max     41.673000  100.000000    0.0        NaN   46.400000   32.800000   \n",
       "std      2.148192   19.346454    0.0        NaN    6.767155    4.477220   \n",
       "\n",
       "          winddir  sealevelpressure  cloudcover  visibility  solarradiation  \\\n",
       "count  720.000000        720.000000  720.000000  720.000000      720.000000   \n",
       "mean   138.854167       1009.909861   84.974861    9.569167      260.390278   \n",
       "min      1.000000       1005.700000   49.600000    2.300000        0.000000   \n",
       "25%     91.000000       1009.000000   88.000000    9.500000        0.000000   \n",
       "50%    123.000000       1010.000000   88.550000   10.000000        1.500000   \n",
       "75%    167.250000       1011.000000   89.100000   10.000000      547.000000   \n",
       "max    360.000000       1013.700000   99.800000   10.700000     1018.000000   \n",
       "std     80.034534          1.434989    8.786748    1.088092      346.503134   \n",
       "\n",
       "       solarenergy     uvindex  severerisk  \n",
       "count   720.000000  720.000000  720.000000  \n",
       "mean      0.938056    2.613889   21.387500  \n",
       "min       0.000000    0.000000    3.000000  \n",
       "25%       0.000000    0.000000   10.000000  \n",
       "50%       0.000000    0.000000   30.000000  \n",
       "75%       2.000000    5.250000   30.000000  \n",
       "max       3.700000   10.000000   60.000000  \n",
       "std       1.247026    3.472255   12.874752  "
      ]
     },
     "execution_count": 8,
     "metadata": {},
     "output_type": "execute_result"
    }
   ],
   "source": [
    "df.describe()"
   ]
  },
  {
   "cell_type": "code",
   "execution_count": 11,
   "id": "184e57cc-d34a-4e2f-8df6-5164eeac5a6c",
   "metadata": {},
   "outputs": [
    {
     "data": {
      "text/plain": [
       "name                  0\n",
       "datetime              0\n",
       "temp                  0\n",
       "feelslike             0\n",
       "dew                   0\n",
       "humidity              0\n",
       "precip                0\n",
       "precipprob            0\n",
       "preciptype          636\n",
       "snow                120\n",
       "snowdepth           720\n",
       "windgust              0\n",
       "windspeed             0\n",
       "winddir               0\n",
       "sealevelpressure      0\n",
       "cloudcover            0\n",
       "visibility            0\n",
       "solarradiation        0\n",
       "solarenergy           0\n",
       "uvindex               0\n",
       "severerisk            0\n",
       "conditions            0\n",
       "icon                  0\n",
       "stations              0\n",
       "dtype: int64"
      ]
     },
     "execution_count": 11,
     "metadata": {},
     "output_type": "execute_result"
    }
   ],
   "source": [
    "df.isna().sum()"
   ]
  },
  {
   "cell_type": "code",
   "execution_count": 15,
   "id": "15894f93-ed2c-4b1a-bcd7-a9bdff0b701c",
   "metadata": {},
   "outputs": [
    {
     "data": {
      "text/plain": [
       "name                        object\n",
       "datetime            datetime64[ns]\n",
       "temp                       float64\n",
       "feelslike                  float64\n",
       "dew                        float64\n",
       "humidity                   float64\n",
       "precip                     float64\n",
       "precipprob                   int64\n",
       "preciptype                  object\n",
       "snow                       float64\n",
       "snowdepth                  float64\n",
       "windgust                   float64\n",
       "windspeed                  float64\n",
       "winddir                      int64\n",
       "sealevelpressure           float64\n",
       "cloudcover                 float64\n",
       "visibility                 float64\n",
       "solarradiation               int64\n",
       "solarenergy                float64\n",
       "uvindex                      int64\n",
       "severerisk                   int64\n",
       "conditions                  object\n",
       "icon                        object\n",
       "stations                    object\n",
       "dtype: object"
      ]
     },
     "execution_count": 15,
     "metadata": {},
     "output_type": "execute_result"
    }
   ],
   "source": [
    "df.dtypes"
   ]
  },
  {
   "cell_type": "code",
   "execution_count": 17,
   "id": "579f9984-dd76-43d6-b418-7b946ce94748",
   "metadata": {},
   "outputs": [
    {
     "data": {
      "text/plain": [
       "array(['Partially cloudy', 'Rain, Partially cloudy', 'Overcast',\n",
       "       'Rain, Overcast'], dtype=object)"
      ]
     },
     "execution_count": 17,
     "metadata": {},
     "output_type": "execute_result"
    }
   ],
   "source": [
    "df.conditions.unique()"
   ]
  },
  {
   "cell_type": "code",
   "execution_count": 18,
   "id": "9950a658-4e5e-4004-abaf-b54bb0f7d71e",
   "metadata": {},
   "outputs": [
    {
     "data": {
      "text/plain": [
       "array(['partly-cloudy-night', 'partly-cloudy-day', 'rain', 'cloudy'],\n",
       "      dtype=object)"
      ]
     },
     "execution_count": 18,
     "metadata": {},
     "output_type": "execute_result"
    }
   ],
   "source": [
    "df.icon.unique()"
   ]
  },
  {
   "cell_type": "code",
   "execution_count": 20,
   "id": "740ba83a-2385-486a-b373-e96ed433211c",
   "metadata": {},
   "outputs": [
    {
     "data": {
      "text/plain": [
       "stations\n",
       "48698099999,48679099999,WSAP,48694099999,48699099999,WSSL    690\n",
       "WSAP,WSSL                                                     16\n",
       "48698099999,48679099999,WSAP,48694099999,48699099999           2\n",
       "WSAP,48694099999,48699099999,WSSL                              2\n",
       "WSAP,48699099999,WSSL                                          2\n",
       "48698099999,WSAP,WSSL                                          2\n",
       "48698099999,48679099999,WSAP,48699099999,WSSL                  2\n",
       "48698099999,48679099999,WSAP,WSSL                              1\n",
       "48679099999,WSAP,WSSL                                          1\n",
       "48698099999,48679099999,48694099999,48699099999                1\n",
       "WSAP,48694099999,WSSL                                          1\n",
       "Name: count, dtype: int64"
      ]
     },
     "execution_count": 20,
     "metadata": {},
     "output_type": "execute_result"
    }
   ],
   "source": [
    "df.stations.value_counts()"
   ]
  },
  {
   "cell_type": "code",
   "execution_count": 6,
   "id": "1fcbcefc-1c24-49f9-92e9-dcf59d9918de",
   "metadata": {},
   "outputs": [
    {
     "name": "stdout",
     "output_type": "stream",
     "text": [
      "Execution time: 0.3024575710296631\n"
     ]
    }
   ],
   "source": [
    "start_time = time.time()\n",
    "df.isna().sum()\n",
    "end_time = time.time()\n",
    "execution_time =   end_time - start_time\n",
    "print(\"Execution time:\",execution_time)"
   ]
  },
  {
   "cell_type": "code",
   "execution_count": 21,
   "id": "9d439db8-8b16-4a0a-8944-dfe430ff349c",
   "metadata": {},
   "outputs": [
    {
     "data": {
      "text/plain": [
       "(720, 24)"
      ]
     },
     "execution_count": 21,
     "metadata": {},
     "output_type": "execute_result"
    }
   ],
   "source": [
    "df.shape"
   ]
  },
  {
   "cell_type": "code",
   "execution_count": null,
   "id": "6efd330b-6226-4f8b-b059-fbe8973b225e",
   "metadata": {},
   "outputs": [],
   "source": [
    "# to extract windspeed, visibility, pressure"
   ]
  },
  {
   "cell_type": "markdown",
   "id": "22e6be58-97f8-4aa7-b68d-3abad911e77b",
   "metadata": {},
   "source": [
    "# clean weather"
   ]
  },
  {
   "cell_type": "code",
   "execution_count": 23,
   "id": "cac81c3d-0204-4cac-812e-8a3beb86d94b",
   "metadata": {},
   "outputs": [],
   "source": [
    "df['datetime'] = pd.to_datetime(df['datetime'])"
   ]
  },
  {
   "cell_type": "code",
   "execution_count": 25,
   "id": "1e4f62e4-0be5-4cbb-a2f1-805d3473b48d",
   "metadata": {},
   "outputs": [],
   "source": [
    "daily_data = df.groupby(pd.Grouper(key='datetime', freq='D')).agg({\n",
    "    'windspeed': 'mean',\n",
    "    'visibility': 'mean',\n",
    "    'sealevelpressure': 'mean'\n",
    "}).reset_index()"
   ]
  },
  {
   "cell_type": "code",
   "execution_count": 30,
   "id": "70fac404-ab88-491f-9c99-49f19961048b",
   "metadata": {},
   "outputs": [
    {
     "data": {
      "text/html": [
       "<div>\n",
       "<style scoped>\n",
       "    .dataframe tbody tr th:only-of-type {\n",
       "        vertical-align: middle;\n",
       "    }\n",
       "\n",
       "    .dataframe tbody tr th {\n",
       "        vertical-align: top;\n",
       "    }\n",
       "\n",
       "    .dataframe thead th {\n",
       "        text-align: right;\n",
       "    }\n",
       "</style>\n",
       "<table border=\"1\" class=\"dataframe\">\n",
       "  <thead>\n",
       "    <tr style=\"text-align: right;\">\n",
       "      <th></th>\n",
       "      <th>datetime</th>\n",
       "      <th>windspeed</th>\n",
       "      <th>visibility</th>\n",
       "      <th>sealevelpressure</th>\n",
       "    </tr>\n",
       "  </thead>\n",
       "  <tbody>\n",
       "    <tr>\n",
       "      <th>25</th>\n",
       "      <td>2023-09-26</td>\n",
       "      <td>13.537500</td>\n",
       "      <td>9.500000</td>\n",
       "      <td>1009.270833</td>\n",
       "    </tr>\n",
       "    <tr>\n",
       "      <th>26</th>\n",
       "      <td>2023-09-27</td>\n",
       "      <td>13.425000</td>\n",
       "      <td>10.041667</td>\n",
       "      <td>1009.141667</td>\n",
       "    </tr>\n",
       "    <tr>\n",
       "      <th>27</th>\n",
       "      <td>2023-09-28</td>\n",
       "      <td>12.620833</td>\n",
       "      <td>10.058333</td>\n",
       "      <td>1009.675000</td>\n",
       "    </tr>\n",
       "    <tr>\n",
       "      <th>28</th>\n",
       "      <td>2023-09-29</td>\n",
       "      <td>9.695833</td>\n",
       "      <td>9.445833</td>\n",
       "      <td>1011.133333</td>\n",
       "    </tr>\n",
       "    <tr>\n",
       "      <th>29</th>\n",
       "      <td>2023-09-30</td>\n",
       "      <td>8.795833</td>\n",
       "      <td>8.133333</td>\n",
       "      <td>1011.687500</td>\n",
       "    </tr>\n",
       "  </tbody>\n",
       "</table>\n",
       "</div>"
      ],
      "text/plain": [
       "     datetime  windspeed  visibility  sealevelpressure\n",
       "25 2023-09-26  13.537500    9.500000       1009.270833\n",
       "26 2023-09-27  13.425000   10.041667       1009.141667\n",
       "27 2023-09-28  12.620833   10.058333       1009.675000\n",
       "28 2023-09-29   9.695833    9.445833       1011.133333\n",
       "29 2023-09-30   8.795833    8.133333       1011.687500"
      ]
     },
     "execution_count": 30,
     "metadata": {},
     "output_type": "execute_result"
    }
   ],
   "source": [
    "daily_data.tail()"
   ]
  },
  {
   "cell_type": "code",
   "execution_count": 28,
   "id": "b4c21077-3d79-48b0-b855-3b5e9a742312",
   "metadata": {},
   "outputs": [],
   "source": [
    "daily_data.to_csv('weather_data.csv')"
   ]
  },
  {
   "cell_type": "markdown",
   "id": "81fbe14f-ad83-430c-900c-95fd9db77795",
   "metadata": {},
   "source": [
    "# Cleaning steps\n",
    "1. Drop message id col\n",
    "2. Split by msg type (123, 5, 1819)\n",
    "3. Remove MMSI less than 9 digits\n",
    "4. Extract SG destination\n",
    "   \n",
    "For 123 and 1819:\n",
    "1. convert status to int\n",
    "\n",
    "For 5:\n",
    "\n",
    "# NA\n",
    "1. Callsign drop non alpha-numeric (callsign ~ '^[A-Za-z0-9]+$'  and > 0)\n",
    "2. Convert shiptype to int\n",
    "4. Drop month, day, hour minute\n"
   ]
  },
  {
   "cell_type": "code",
   "execution_count": 8,
   "id": "acf94933-1f27-4951-a7c0-cca0bee00a8d",
   "metadata": {},
   "outputs": [],
   "source": [
    "clean_start_time = time.time()"
   ]
  },
  {
   "cell_type": "code",
   "execution_count": 9,
   "id": "57e5c8d2-84c4-453a-8753-3ea9f2c0468d",
   "metadata": {},
   "outputs": [],
   "source": [
    "df_clean = df.drop('_id', axis = 1)"
   ]
  },
  {
   "cell_type": "code",
   "execution_count": 10,
   "id": "799ccc79-f5c8-4c03-9132-da2b57e14694",
   "metadata": {},
   "outputs": [
    {
     "data": {
      "text/plain": [
       "(1417249, 18)"
      ]
     },
     "execution_count": 10,
     "metadata": {},
     "output_type": "execute_result"
    }
   ],
   "source": [
    "df_clean.shape"
   ]
  },
  {
   "cell_type": "code",
   "execution_count": 11,
   "id": "8d2a52e9-c5bf-478d-ab4e-e3193d72bae3",
   "metadata": {},
   "outputs": [],
   "source": [
    "# clean mmsi shorter than 9 digits\n",
    "df_clean = df_clean[df_clean.mmsi > 99999999]"
   ]
  },
  {
   "cell_type": "code",
   "execution_count": 12,
   "id": "aa77f7f8-35fc-4e02-9b48-7857f78d92a8",
   "metadata": {},
   "outputs": [
    {
     "data": {
      "text/plain": [
       "(1417136, 18)"
      ]
     },
     "execution_count": 12,
     "metadata": {},
     "output_type": "execute_result"
    }
   ],
   "source": [
    "df_clean.shape"
   ]
  },
  {
   "cell_type": "code",
   "execution_count": 13,
   "id": "08b861ea-7484-45c1-a97f-e84e504190c0",
   "metadata": {},
   "outputs": [],
   "source": [
    "# start_time = time.time()\n",
    "# df_type123 = df_clean[df_clean.type <= 3][['mmsi', 'status', 'turn', 'speed', 'accuracy', 'lon', 'lat', 'course', 'heading', 'time']]\n",
    "# print(df_type123.shape)\n",
    "# end_time = time.time()\n",
    "# execution_time =   end_time - start_time\n",
    "# print(\"Execution time:\",execution_time)"
   ]
  },
  {
   "cell_type": "code",
   "execution_count": 14,
   "id": "5051a654-035d-42f7-ac35-3ba485a70caa",
   "metadata": {},
   "outputs": [
    {
     "name": "stdout",
     "output_type": "stream",
     "text": [
      "(1417136, 4)\n",
      "Execution time: 0.3599581718444824\n"
     ]
    }
   ],
   "source": [
    "start_time = time.time()\n",
    "df_type5 = df_clean[df_clean.type == 5][['mmsi', 'time', 'draught', 'destination_country']] # cleaned destination \n",
    "print(df_type5.shape)\n",
    "end_time = time.time()\n",
    "execution_time =   end_time - start_time\n",
    "print(\"Execution time:\",execution_time)"
   ]
  },
  {
   "cell_type": "code",
   "execution_count": 15,
   "id": "befd4441-e8fd-4f82-8249-4d08620a3492",
   "metadata": {},
   "outputs": [],
   "source": [
    "# start_time = time.time()\n",
    "# df_type1819 = df_clean[df_clean.type >= 18][['mmsi', 'speed', 'accuracy', 'lon', 'lat', 'course', 'time']]\n",
    "# print(df_type1819.shape)\n",
    "# end_time = time.time()\n",
    "# execution_time =   end_time - start_time\n",
    "# print(\"Execution time:\",execution_time)"
   ]
  },
  {
   "cell_type": "markdown",
   "id": "45903b28-d807-4b00-b4d2-9d7a985313e1",
   "metadata": {},
   "source": [
    "# Clean df_type 123"
   ]
  },
  {
   "cell_type": "code",
   "execution_count": 16,
   "id": "b035a76c-aae1-47ec-91cd-b5a2da8e5a4a",
   "metadata": {},
   "outputs": [],
   "source": [
    "# # change status to type int\n",
    "# df_type123['status'] = df_type123['status'].astype(int)"
   ]
  },
  {
   "cell_type": "markdown",
   "id": "1dc767f6-becd-4024-846d-578b9399102a",
   "metadata": {},
   "source": [
    "# Clean df_type 5"
   ]
  },
  {
   "cell_type": "markdown",
   "id": "f24d7393-f31b-4926-b4d7-9f30650c5a53",
   "metadata": {},
   "source": [
    "# Clean df_type 1819"
   ]
  },
  {
   "cell_type": "code",
   "execution_count": 17,
   "id": "b45e44b0-99d3-49cc-b637-4887a85771d7",
   "metadata": {},
   "outputs": [
    {
     "name": "stdout",
     "output_type": "stream",
     "text": [
      "Cleaning time: 0.7735941410064697\n"
     ]
    }
   ],
   "source": [
    "clean_end_time = time.time()\n",
    "clean_time =   clean_end_time - clean_start_time\n",
    "print(\"Cleaning time:\",clean_time)"
   ]
  },
  {
   "cell_type": "markdown",
   "id": "ef72b95d-fd5b-440a-a969-ec4fc2eaf7d2",
   "metadata": {
    "jp-MarkdownHeadingCollapsed": true
   },
   "source": [
    "# Destination cleaning (NA)"
   ]
  },
  {
   "cell_type": "code",
   "execution_count": 18,
   "id": "32df68aa-b509-4939-be4a-a00208538c3d",
   "metadata": {},
   "outputs": [],
   "source": [
    "# # Singapore location cleaning\n",
    "# keywords = ['sg', 'singapore', 'sin', 'sgp', 'PEBGA', 'PEBGB', 'PSBG', 'PWBGA', 'PWBGB', 'PJSB', 'PGBG', 'ACBTH', 'ACGP', 'AEBA', 'AEBB', 'AEBC', 'AEPB', 'AEPBB', 'AEPBC', 'AESPA', 'ASCA', 'ASCB', 'AMOW', 'AEW', 'AEPA', 'AEHA', 'AEHC', 'AEHB']\n",
    "\n",
    "# # Function to clean destination data using input\n",
    "# def clean_destination(destination):\n",
    "#     destination = str(destination)\n",
    "#     cleaned_destination = [word.upper() for word in keywords if word.lower() in destination.lower()]\n",
    "#     if cleaned_destination:\n",
    "#         return 'SG'\n",
    "        \n",
    "# # Apply the function to the 'destination' column and create a new column 'destination_clean'\n",
    "# df_clean['destination_clean'] = df_clean['destination'].apply(clean_destination)\n",
    "\n",
    "# # drop destination column\n",
    "# # df_clean = df_clean.drop('destination', axis = 1)"
   ]
  },
  {
   "cell_type": "code",
   "execution_count": 19,
   "id": "97abc12d-fd32-4a10-b7a6-4f6ff9bc0f6c",
   "metadata": {},
   "outputs": [],
   "source": [
    "# df_clean.destination_clean.value_counts()"
   ]
  },
  {
   "cell_type": "code",
   "execution_count": 20,
   "id": "bf7bc756-8e33-4ecc-a3b9-88a9408656ca",
   "metadata": {},
   "outputs": [],
   "source": [
    "# countries_keywords = {\n",
    "#     'SG': ['sg', 'singapore', 'sin', 'sgp'],  # Singapore\n",
    "#     'US': ['us', 'usa', 'america'],  # United States\n",
    "#     'CN': ['cn', 'china', 'prc'],  # China\n",
    "#     'JP': ['jp', 'japan'],  # Japan\n",
    "#     'KR': ['kr', 'south korea'],  # South Korea\n",
    "#     'DE': ['de', 'germany'],  # Germany\n",
    "#     'NL': ['nl', 'netherlands'],  # Netherlands\n",
    "#     'AE': ['ae', 'united arab emirates', 'uae'],  # United Arab Emirates\n",
    "#     'HK': ['hk', 'hong kong'],  # Hong Kong\n",
    "#     'MY': ['my', 'malaysia'],  # Malaysia\n",
    "#     'BR': ['br', 'brazil'],  # Brazil\n",
    "#     'AU': ['au', 'australia'],  # Australia\n",
    "#     'ID': ['id', 'indonesia'],  # Indonesia\n",
    "#     'TH': ['th', 'thailand'],  # Thailand\n",
    "#     'VN': ['vn', 'vietnam'],  # Vietnam\n",
    "#     'PH': ['ph', 'philippines'],  # Philippines\n",
    "#     'MM': ['mm', 'myanmar'],  # Myanmar\n",
    "#     'KH': ['kh', 'cambodia'],  # Cambodia\n",
    "#     'LA': ['la', 'lao', 'laos'],  # Laos\n",
    "#     'BN': ['bn', 'brunei'],  # Brunei\n",
    "#     'TL': ['tl', 'timor-leste'],  # Timor-Leste\n",
    "#     'IN': ['in', 'india'],  # India\n",
    "#     'PK': ['pk', 'pakistan'],  # Pakistan\n",
    "#     'BD': ['bd', 'bangladesh'],  # Bangladesh\n",
    "#     'LK': ['lk', 'sri lanka'],  # Sri Lanka\n",
    "#     'NP': ['np', 'nepal'],  # Nepal\n",
    "#     'MM': ['mm', 'myanmar'],  # Myanmar\n",
    "#     # Add more countries and their keywords as needed\n",
    "# }"
   ]
  },
  {
   "cell_type": "code",
   "execution_count": 21,
   "id": "2fc08bb2-3ecd-43f1-b576-c31937380d10",
   "metadata": {},
   "outputs": [],
   "source": [
    "# start_time = time.time()\n",
    "\n",
    "# for code, keywords in countries_keywords.items():\n",
    "#     def clean_destination(destination):\n",
    "#         destination = str(destination)\n",
    "#         cleaned_destination = [word.upper() for word in keywords if word.lower() in destination.lower()]\n",
    "#         if cleaned_destination:\n",
    "#             return code\n",
    "\n",
    "#     df_clean['destination_clean'] = df_clean['destination'].apply(clean_destination)\n",
    "\n",
    "# end_time = time.time()\n",
    "# execution_time =   end_time - start_time\n",
    "# print(\"Execution time:\",execution_time)\n",
    "# df_clean.destination_clean.value_counts()"
   ]
  },
  {
   "cell_type": "code",
   "execution_count": 22,
   "id": "8e483328-0c71-4175-92b3-769ae7361be9",
   "metadata": {},
   "outputs": [],
   "source": [
    "# def clean_destination(row):\n",
    "#     destination = str(row['destination'].lower())\n",
    "#     for code, keywords in countries_keywords.items():\n",
    "#         if any(keyword in destination for keyword in keywords):\n",
    "#             return code.upper()\n",
    "#     return None"
   ]
  },
  {
   "cell_type": "code",
   "execution_count": 23,
   "id": "ccaeed1b-536f-46b6-9775-62a8b1486884",
   "metadata": {},
   "outputs": [],
   "source": [
    "# # Apply the clean_destination function to create 'destination_clean' column\n",
    "# df_clean['destination_clean'] = df_clean.apply(clean_destination, axis=1)"
   ]
  },
  {
   "cell_type": "code",
   "execution_count": 24,
   "id": "9e5ee70a-63c5-43f8-97c4-d4b8d9586c1c",
   "metadata": {},
   "outputs": [],
   "source": [
    "# df_clean.destination_clean.value_counts()"
   ]
  },
  {
   "cell_type": "markdown",
   "id": "95d7534c-1c2d-4c7d-9ab8-5972e3dc5a82",
   "metadata": {},
   "source": [
    "# All cleaning steps completed, save to csv"
   ]
  },
  {
   "cell_type": "code",
   "execution_count": 25,
   "id": "a7da00eb-576c-4efe-a693-fc0b43c160fe",
   "metadata": {},
   "outputs": [],
   "source": [
    "# df_clean.to_csv('df_clean.csv')"
   ]
  },
  {
   "cell_type": "code",
   "execution_count": 26,
   "id": "8624e56b-ae34-4572-94d7-fd624818588a",
   "metadata": {},
   "outputs": [],
   "source": [
    "# df_type123.to_csv('df_type123.csv')"
   ]
  },
  {
   "cell_type": "code",
   "execution_count": 27,
   "id": "988ecbad-3b60-44a7-af4c-fc2018910ef2",
   "metadata": {},
   "outputs": [],
   "source": [
    "df_type5.to_csv('df_type5.csv')"
   ]
  },
  {
   "cell_type": "code",
   "execution_count": 30,
   "id": "ec7de6f2-e71b-4e41-8003-9d40d9a350ff",
   "metadata": {},
   "outputs": [
    {
     "data": {
      "text/html": [
       "<div>\n",
       "<style scoped>\n",
       "    .dataframe tbody tr th:only-of-type {\n",
       "        vertical-align: middle;\n",
       "    }\n",
       "\n",
       "    .dataframe tbody tr th {\n",
       "        vertical-align: top;\n",
       "    }\n",
       "\n",
       "    .dataframe thead th {\n",
       "        text-align: right;\n",
       "    }\n",
       "</style>\n",
       "<table border=\"1\" class=\"dataframe\">\n",
       "  <thead>\n",
       "    <tr style=\"text-align: right;\">\n",
       "      <th></th>\n",
       "      <th>mmsi</th>\n",
       "      <th>time</th>\n",
       "      <th>draught</th>\n",
       "      <th>destination_country</th>\n",
       "    </tr>\n",
       "  </thead>\n",
       "  <tbody>\n",
       "    <tr>\n",
       "      <th>0</th>\n",
       "      <td>205559000</td>\n",
       "      <td>2023-09-09 18:07:29+08</td>\n",
       "      <td>13.7</td>\n",
       "      <td>SINGAPORE</td>\n",
       "    </tr>\n",
       "    <tr>\n",
       "      <th>1</th>\n",
       "      <td>205083000</td>\n",
       "      <td>2023-09-09 15:35:18+08</td>\n",
       "      <td>5.2</td>\n",
       "      <td>SINGAPORE</td>\n",
       "    </tr>\n",
       "    <tr>\n",
       "      <th>2</th>\n",
       "      <td>205559000</td>\n",
       "      <td>2023-09-09 09:31:29+08</td>\n",
       "      <td>16.9</td>\n",
       "      <td>SINGAPORE</td>\n",
       "    </tr>\n",
       "    <tr>\n",
       "      <th>3</th>\n",
       "      <td>205559000</td>\n",
       "      <td>2023-09-09 06:37:27+08</td>\n",
       "      <td>16.9</td>\n",
       "      <td>SINGAPORE</td>\n",
       "    </tr>\n",
       "    <tr>\n",
       "      <th>4</th>\n",
       "      <td>205559000</td>\n",
       "      <td>2023-09-09 08:19:25+08</td>\n",
       "      <td>16.9</td>\n",
       "      <td>SINGAPORE</td>\n",
       "    </tr>\n",
       "  </tbody>\n",
       "</table>\n",
       "</div>"
      ],
      "text/plain": [
       "        mmsi                    time  draught destination_country\n",
       "0  205559000  2023-09-09 18:07:29+08     13.7           SINGAPORE\n",
       "1  205083000  2023-09-09 15:35:18+08      5.2           SINGAPORE\n",
       "2  205559000  2023-09-09 09:31:29+08     16.9           SINGAPORE\n",
       "3  205559000  2023-09-09 06:37:27+08     16.9           SINGAPORE\n",
       "4  205559000  2023-09-09 08:19:25+08     16.9           SINGAPORE"
      ]
     },
     "execution_count": 30,
     "metadata": {},
     "output_type": "execute_result"
    }
   ],
   "source": [
    "df_type5.head()"
   ]
  },
  {
   "cell_type": "code",
   "execution_count": 28,
   "id": "7b8eaf53-70a4-43d0-889f-b932acabd485",
   "metadata": {},
   "outputs": [],
   "source": [
    "# df_type1819.to_csv('df_type1819.csv')"
   ]
  },
  {
   "cell_type": "code",
   "execution_count": 29,
   "id": "176954fa-f029-4586-ad81-1c5711aa26ff",
   "metadata": {},
   "outputs": [
    {
     "name": "stdout",
     "output_type": "stream",
     "text": [
      "Read time: 2.7133119106292725\n",
      "Cleaning time: 0.7735941410064697\n",
      "File run time: 6.264193534851074\n"
     ]
    }
   ],
   "source": [
    "file_end_time = time.time()\n",
    "file_execution_time = file_end_time - file_start_time\n",
    "print(\"Read time:\",read_time)\n",
    "print(\"Cleaning time:\",clean_time)\n",
    "print(\"File run time:\",file_execution_time)"
   ]
  }
 ],
 "metadata": {
  "kernelspec": {
   "display_name": "Python 3 (ipykernel)",
   "language": "python",
   "name": "python3"
  },
  "language_info": {
   "codemirror_mode": {
    "name": "ipython",
    "version": 3
   },
   "file_extension": ".py",
   "mimetype": "text/x-python",
   "name": "python",
   "nbconvert_exporter": "python",
   "pygments_lexer": "ipython3",
   "version": "3.9.13"
  }
 },
 "nbformat": 4,
 "nbformat_minor": 5
}
