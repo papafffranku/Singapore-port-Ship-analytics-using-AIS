{
 "cells": [
  {
   "cell_type": "markdown",
   "metadata": {
    "id": "sWraV2zBVwt3"
   },
   "source": [
    "AIS Ship Types: https://api.vtexplorer.com/docs/ref-aistypes.html\n",
    "\n",
    "Country codes to MMSI: https://documentation.spire.com/ais-fundamentals/vessel-flag-codes/\n",
    "\n",
    "MMSI to IMO: https://www.marinetraffic.com/en/data/?asset_type=vessels&columns=flag,shipname,photo,recognized_next_port,reported_eta,reported_destination,current_port,imo,ship_type,show_on_live_map,time_of_latest_position,lat_of_latest_position,lon_of_latest_position,notes\n",
    "\n",
    "MMSI to Gross tonnage and deadweight tonnage & size: https://www.vesselfinder.com/vessels\n",
    "\n",
    "Maritime Vessels Directory: https://www.marinevesseltraffic.com/vessels?page=2\n",
    "\n",
    "Trip data of vessels from MyShipTracking (live data): https://www.myshiptracking.com/vessels?ajax=true&page=2\n",
    "\n",
    "Current arrivals and departures to SG port: https://www.myshiptracking.com/ports/port-of-singapore-in-sg-singapore-id-386\n",
    "\n",
    "Port name, country, code, and type: https://www.marinevesseltraffic.com/ports?page=2&port=none&country=none\n",
    "\n",
    "IMO to company: https://www.marinevesseltraffic.com/container-lines-maps/MAERSK\n",
    "\n",
    "AIS Technical Characteristics Documentation: http://www.allaboutais.com/index.php/en/ais-technical-information-footer/80-ais-technicals\n",
    "Vessel Type and Group Codes: https://coast.noaa.gov/data/marinecadastre/ais/VesselTypeCodes2018.pdf\n",
    "Navigational Status Codes: https://documentation.spire.com/ais-fundamentals/how-to-interpret-navigational-status-codes/\n",
    "AIS Ship Types: https://api.vtexplorer.com/docs/ref-aistypes.html\n"
   ]
  },
  {
   "cell_type": "code",
   "execution_count": 3,
   "metadata": {
    "colab": {
     "base_uri": "https://localhost:8080/"
    },
    "id": "F1XAy83DUZv0",
    "outputId": "9ac7db5b-f2a7-4167-9df0-41a066e40f00"
   },
   "outputs": [
    {
     "name": "stdout",
     "output_type": "stream",
     "text": [
      "200\n"
     ]
    }
   ],
   "source": [
    "import requests\n",
    "from bs4 import BeautifulSoup\n",
    "import pandas as pd\n",
    "import requests\n",
    "import requests\n",
    "from bs4 import BeautifulSoup\n",
    "\n",
    "header = {\"User-Agent\": 'Mozilla/5.0 (Windows NT 10.0; Win64; x64) AppleWebKit/537.36 (KHTML, like Gecko) Chrome/128.0.0.0 Safari/537.36'}\n",
    "\n",
    "# Pass a dict object to the headers parameter\n",
    "r = requests.get(\"https://api.vtexplorer.com/docs/ref-aistypes.html\", headers=header)\n",
    "\n",
    "print(r.status_code)"
   ]
  },
  {
   "cell_type": "code",
   "execution_count": 2,
   "metadata": {
    "id": "UV8sxwqkVXmw"
   },
   "outputs": [],
   "source": [
    "# Make a request to the web page\n",
    "response = requests.get(\"https://api.vtexplorer.com/docs/ref-aistypes.html\")\n",
    "\n",
    "# Parse the HTML content with BeautifulSoup\n",
    "soup = BeautifulSoup(response.content, \"html.parser\")\n",
    "\n",
    "# Find the table element\n",
    "table = soup.find('div',{'class':'container'})\n",
    "\n",
    "\n",
    "# Extract the table data\n",
    "table_data = []\n",
    "for row in table.find_all(\"tr\"):\n",
    "    columns = row.find_all(\"td\")\n",
    "    table_row = []\n",
    "    for column in columns:\n",
    "        table_row.append(column.text)\n",
    "    table_data.append(table_row)"
   ]
  },
  {
   "cell_type": "code",
   "execution_count": 3,
   "metadata": {
    "colab": {
     "base_uri": "https://localhost:8080/",
     "height": 206
    },
    "id": "4y3zCiZr2fjo",
    "outputId": "baa926f8-86da-4e36-99bd-94645fc26729"
   },
   "outputs": [
    {
     "data": {
      "text/html": [
       "<div>\n",
       "<style scoped>\n",
       "    .dataframe tbody tr th:only-of-type {\n",
       "        vertical-align: middle;\n",
       "    }\n",
       "\n",
       "    .dataframe tbody tr th {\n",
       "        vertical-align: top;\n",
       "    }\n",
       "\n",
       "    .dataframe thead th {\n",
       "        text-align: right;\n",
       "    }\n",
       "</style>\n",
       "<table border=\"1\" class=\"dataframe\">\n",
       "  <thead>\n",
       "    <tr style=\"text-align: right;\">\n",
       "      <th></th>\n",
       "      <th>Code</th>\n",
       "      <th>Description</th>\n",
       "    </tr>\n",
       "  </thead>\n",
       "  <tbody>\n",
       "    <tr>\n",
       "      <th>1</th>\n",
       "      <td>0</td>\n",
       "      <td>Not available (default)</td>\n",
       "    </tr>\n",
       "    <tr>\n",
       "      <th>2</th>\n",
       "      <td>1-19</td>\n",
       "      <td>Reserved for future use</td>\n",
       "    </tr>\n",
       "    <tr>\n",
       "      <th>3</th>\n",
       "      <td>20</td>\n",
       "      <td>Wing in ground (WIG), all ships of this type</td>\n",
       "    </tr>\n",
       "    <tr>\n",
       "      <th>4</th>\n",
       "      <td>21</td>\n",
       "      <td>Wing in ground (WIG), Hazardous category A</td>\n",
       "    </tr>\n",
       "    <tr>\n",
       "      <th>5</th>\n",
       "      <td>22</td>\n",
       "      <td>Wing in ground (WIG), Hazardous category B</td>\n",
       "    </tr>\n",
       "  </tbody>\n",
       "</table>\n",
       "</div>"
      ],
      "text/plain": [
       "   Code                                   Description\n",
       "1     0                       Not available (default)\n",
       "2  1-19                       Reserved for future use\n",
       "3    20  Wing in ground (WIG), all ships of this type\n",
       "4    21    Wing in ground (WIG), Hazardous category A\n",
       "5    22    Wing in ground (WIG), Hazardous category B"
      ]
     },
     "execution_count": 3,
     "metadata": {},
     "output_type": "execute_result"
    }
   ],
   "source": [
    "columns = ['Code', 'Description']\n",
    "ship_codes_df = pd.DataFrame(table_data, columns=columns)\n",
    "ship_codes_df = ship_codes_df.drop(0)\n",
    "ship_codes_df.head()"
   ]
  },
  {
   "cell_type": "code",
   "execution_count": 4,
   "metadata": {
    "colab": {
     "base_uri": "https://localhost:8080/"
    },
    "id": "3AzV1oK92u8c",
    "outputId": "347aebc0-e4af-42df-b760-a9c530e04be8"
   },
   "outputs": [
    {
     "name": "stdout",
     "output_type": "stream",
     "text": [
      "200\n"
     ]
    }
   ],
   "source": [
    "r = requests.get(\"https://documentation.spire.com/ais-fundamentals/ship-type-mappings/\", headers=header)\n",
    "print(r.status_code)"
   ]
  },
  {
   "cell_type": "code",
   "execution_count": null,
   "metadata": {},
   "outputs": [],
   "source": [
    "import pandas as pd\n",
    "import requests\n",
    "\n",
    "url = \"https://documentation.spire.com/ais-fundamentals/ship-type-mappings/\"\n",
    "\n",
    "response = requests.get(url, headers=header)\n",
    "\n",
    "if response.status_code == 200:\n",
    "    ShipType_df = pd.read_html(response.text)[1]\n",
    "    print(CountryCode_df.head())\n",
    "else:\n",
    "    print(f\"Failed to retrieve the page. Status code: {response.status_code}\")"
   ]
  },
  {
   "cell_type": "code",
   "execution_count": 5,
   "metadata": {
    "id": "G7-2r0rL9O-5"
   },
   "outputs": [],
   "source": [
    "ShipType_df.to_csv('ship_codes_csv', index=False)"
   ]
  },
  {
   "cell_type": "code",
   "execution_count": 6,
   "metadata": {
    "colab": {
     "base_uri": "https://localhost:8080/"
    },
    "id": "8vkO8T8HSdfx",
    "outputId": "de5033af-67e8-487c-c94a-424445a17bd6"
   },
   "outputs": [
    {
     "name": "stdout",
     "output_type": "stream",
     "text": [
      "   MID Country Name Country Code\n",
      "0  201      Albania           AL\n",
      "1  202      Andorra           AD\n",
      "2  203      Austria           AT\n",
      "3  204     Portugal           PT\n",
      "4  205      Belgium           BE\n"
     ]
    }
   ],
   "source": [
    "import pandas as pd\n",
    "import requests\n",
    "\n",
    "url = \"https://documentation.spire.com/ais-fundamentals/vessel-flag-codes/\"\n",
    "\n",
    "response = requests.get(url, headers=header)\n",
    "\n",
    "if response.status_code == 200:\n",
    "    CountryCode_df = pd.read_html(response.text)[1]\n",
    "    print(CountryCode_df.head())\n",
    "else:\n",
    "    print(f\"Failed to retrieve the page. Status code: {response.status_code}\")\n"
   ]
  },
  {
   "cell_type": "code",
   "execution_count": 7,
   "metadata": {
    "id": "we6hAZVL1oI6"
   },
   "outputs": [],
   "source": [
    "ship_codes_df.to_csv('ship_codes_csv', index=False)"
   ]
  },
  {
   "cell_type": "code",
   "execution_count": 8,
   "metadata": {
    "id": "EVVzim2oIuC9"
   },
   "outputs": [],
   "source": [
    "CountryCode_df.to_csv('CountryCode_csv', index=False)"
   ]
  },
  {
   "cell_type": "code",
   "execution_count": 10,
   "metadata": {
    "colab": {
     "base_uri": "https://localhost:8080/"
    },
    "id": "VNDqEUjnMUWE",
    "outputId": "8f3f62bf-b4d2-4925-83ea-d290bf076358"
   },
   "outputs": [
    {
     "name": "stdout",
     "output_type": "stream",
     "text": [
      "200\n"
     ]
    }
   ],
   "source": [
    "r = requests.get(\"https://www.vesselfinder.com/vessels/details/9382528\", headers=header)\n",
    "print(r.status_code)"
   ]
  },
  {
   "cell_type": "code",
   "execution_count": 15,
   "metadata": {
    "colab": {
     "base_uri": "https://localhost:8080/"
    },
    "id": "RklwDEpeMezT",
    "outputId": "37afddf8-e2d0-4a81-8966-a6c1fe4a709a"
   },
   "outputs": [],
   "source": [
    "import pandas as pd\n",
    "import requests\n",
    "\n",
    "url = \"https://www.vesselfinder.com/vessels/details/9382528\"\n",
    "\n",
    "response = requests.get(url, headers=header)\n",
    "\n",
    "if response.status_code == 200:\n",
    "    ShipDat_df = pd.read_html(response.text)[1]\n",
    "    first_row_list = ShipDat_df.T.iloc[1].tolist()\n",
    "    new_df = pd.concat([new_df, pd.DataFrame([first_row_list])])\n",
    "else:\n",
    "    print(f\"Failed to retrieve the page. Status code: {response.status_code}\")\n"
   ]
  },
  {
   "cell_type": "code",
   "execution_count": 4,
   "metadata": {},
   "outputs": [
    {
     "data": {
      "text/html": [
       "<div>\n",
       "<style scoped>\n",
       "    .dataframe tbody tr th:only-of-type {\n",
       "        vertical-align: middle;\n",
       "    }\n",
       "\n",
       "    .dataframe tbody tr th {\n",
       "        vertical-align: top;\n",
       "    }\n",
       "\n",
       "    .dataframe thead th {\n",
       "        text-align: right;\n",
       "    }\n",
       "</style>\n",
       "<table border=\"1\" class=\"dataframe\">\n",
       "  <thead>\n",
       "    <tr style=\"text-align: right;\">\n",
       "      <th></th>\n",
       "    </tr>\n",
       "  </thead>\n",
       "  <tbody>\n",
       "  </tbody>\n",
       "</table>\n",
       "</div>"
      ],
      "text/plain": [
       "Empty DataFrame\n",
       "Columns: []\n",
       "Index: []"
      ]
     },
     "execution_count": 4,
     "metadata": {},
     "output_type": "execute_result"
    }
   ],
   "source": [
    "new_df = pd.DataFrame()\n",
    "new_df"
   ]
  },
  {
   "cell_type": "code",
   "execution_count": 16,
   "metadata": {},
   "outputs": [
    {
     "data": {
      "text/html": [
       "<div>\n",
       "<style scoped>\n",
       "    .dataframe tbody tr th:only-of-type {\n",
       "        vertical-align: middle;\n",
       "    }\n",
       "\n",
       "    .dataframe tbody tr th {\n",
       "        vertical-align: top;\n",
       "    }\n",
       "\n",
       "    .dataframe thead th {\n",
       "        text-align: right;\n",
       "    }\n",
       "</style>\n",
       "<table border=\"1\" class=\"dataframe\">\n",
       "  <thead>\n",
       "    <tr style=\"text-align: right;\">\n",
       "      <th></th>\n",
       "    </tr>\n",
       "  </thead>\n",
       "  <tbody>\n",
       "  </tbody>\n",
       "</table>\n",
       "</div>"
      ],
      "text/plain": [
       "Empty DataFrame\n",
       "Columns: []\n",
       "Index: []"
      ]
     },
     "execution_count": 16,
     "metadata": {},
     "output_type": "execute_result"
    }
   ],
   "source": [
    "new_df"
   ]
  },
  {
   "cell_type": "code",
   "execution_count": null,
   "metadata": {
    "id": "sVXOhnuwZi7Y"
   },
   "outputs": [],
   "source": [
    "transposed_df = ShipDat_df.T\n",
    "# Rename the first row of the transposed DataFrame as the header\n",
    "transposed_df.rename(columns=transposed_df.iloc[0], inplace=True)\n",
    "transposed_df = transposed_df.drop(transposed_df.index, axis=0)\n",
    "transposed_df"
   ]
  },
  {
   "cell_type": "code",
   "execution_count": null,
   "metadata": {
    "id": "Y_NtNhQya6rl"
   },
   "outputs": [],
   "source": [
    "new_row_df = pd.DataFrame([new_row], columns=transposed_df.columns)\n",
    "transposed_df = transposed_df.append(new_row_df, ignore_index=True)"
   ]
  },
  {
   "cell_type": "code",
   "execution_count": 25,
   "metadata": {
    "id": "2uM3BHaJgQ1b"
   },
   "outputs": [],
   "source": [
    "mmsi_df = pd.read_csv('distinct_mmsi.csv')"
   ]
  },
  {
   "cell_type": "code",
   "execution_count": null,
   "metadata": {},
   "outputs": [],
   "source": [
    "abc=mmsi_df[\"mmsi\"][1]\n",
    "print(f\"https://www.vesselfinder.com/vessels/details/{abc}\")"
   ]
  },
  {
   "cell_type": "code",
   "execution_count": 16,
   "metadata": {},
   "outputs": [
    {
     "data": {
      "text/plain": [
       "8444"
      ]
     },
     "execution_count": 16,
     "metadata": {},
     "output_type": "execute_result"
    }
   ],
   "source": [
    "len(mmsi_df)"
   ]
  },
  {
   "cell_type": "code",
   "execution_count": null,
   "metadata": {},
   "outputs": [],
   "source": [
    "pip install fake-useragent"
   ]
  },
  {
   "cell_type": "code",
   "execution_count": 24,
   "metadata": {},
   "outputs": [
    {
     "data": {
      "text/plain": [
       "1065"
      ]
     },
     "execution_count": 24,
     "metadata": {},
     "output_type": "execute_result"
    }
   ],
   "source": [
    "len(new_df)"
   ]
  },
  {
   "cell_type": "code",
   "execution_count": 10,
   "metadata": {},
   "outputs": [
    {
     "data": {
      "text/html": [
       "<div>\n",
       "<style scoped>\n",
       "    .dataframe tbody tr th:only-of-type {\n",
       "        vertical-align: middle;\n",
       "    }\n",
       "\n",
       "    .dataframe tbody tr th {\n",
       "        vertical-align: top;\n",
       "    }\n",
       "\n",
       "    .dataframe thead th {\n",
       "        text-align: right;\n",
       "    }\n",
       "</style>\n",
       "<table border=\"1\" class=\"dataframe\">\n",
       "  <thead>\n",
       "    <tr style=\"text-align: right;\">\n",
       "      <th></th>\n",
       "      <th>0</th>\n",
       "      <th>1</th>\n",
       "      <th>2</th>\n",
       "      <th>3</th>\n",
       "      <th>4</th>\n",
       "      <th>5</th>\n",
       "      <th>6</th>\n",
       "      <th>7</th>\n",
       "      <th>8</th>\n",
       "      <th>9</th>\n",
       "      <th>10</th>\n",
       "      <th>11</th>\n",
       "      <th>12</th>\n",
       "      <th>13</th>\n",
       "      <th>14</th>\n",
       "    </tr>\n",
       "  </thead>\n",
       "  <tbody>\n",
       "    <tr>\n",
       "      <th>0</th>\n",
       "      <td>9545637</td>\n",
       "      <td>CHANG LONG</td>\n",
       "      <td>General Cargo Ship</td>\n",
       "      <td>Panama</td>\n",
       "      <td>NaN</td>\n",
       "      <td>8979</td>\n",
       "      <td>13618</td>\n",
       "      <td>140</td>\n",
       "      <td>20</td>\n",
       "      <td>NaN</td>\n",
       "      <td>2010</td>\n",
       "      <td>NaN</td>\n",
       "      <td>NaN</td>\n",
       "      <td>NaN</td>\n",
       "      <td>NaN</td>\n",
       "    </tr>\n",
       "    <tr>\n",
       "      <th>0</th>\n",
       "      <td>9331892</td>\n",
       "      <td>LILY RISING</td>\n",
       "      <td>Bulk Carrier</td>\n",
       "      <td>Panama</td>\n",
       "      <td>NaN</td>\n",
       "      <td>31236</td>\n",
       "      <td>56083</td>\n",
       "      <td>190</td>\n",
       "      <td>32</td>\n",
       "      <td>NaN</td>\n",
       "      <td>2007</td>\n",
       "      <td>NaN</td>\n",
       "      <td>NaN</td>\n",
       "      <td>NaN</td>\n",
       "      <td>NaN</td>\n",
       "    </tr>\n",
       "    <tr>\n",
       "      <th>0</th>\n",
       "      <td>9433872</td>\n",
       "      <td>SEACON OSAKA</td>\n",
       "      <td>General Cargo Ship</td>\n",
       "      <td>Panama</td>\n",
       "      <td>NaN</td>\n",
       "      <td>9932</td>\n",
       "      <td>14416</td>\n",
       "      <td>128</td>\n",
       "      <td>20</td>\n",
       "      <td>NaN</td>\n",
       "      <td>2008</td>\n",
       "      <td>NaN</td>\n",
       "      <td>NaN</td>\n",
       "      <td>NaN</td>\n",
       "      <td>NaN</td>\n",
       "    </tr>\n",
       "    <tr>\n",
       "      <th>0</th>\n",
       "      <td>9909065</td>\n",
       "      <td>NAVIOS STAR</td>\n",
       "      <td>Bulk Carrier</td>\n",
       "      <td>Panama</td>\n",
       "      <td>-</td>\n",
       "      <td>44175</td>\n",
       "      <td>81994</td>\n",
       "      <td>229</td>\n",
       "      <td>32</td>\n",
       "      <td>-</td>\n",
       "      <td>2021</td>\n",
       "      <td>-</td>\n",
       "      <td>-</td>\n",
       "      <td>-</td>\n",
       "      <td>NaN</td>\n",
       "    </tr>\n",
       "    <tr>\n",
       "      <th>0</th>\n",
       "      <td>9169158</td>\n",
       "      <td>EVER UNITY</td>\n",
       "      <td>Container Ship</td>\n",
       "      <td>Panama</td>\n",
       "      <td>NaN</td>\n",
       "      <td>69246</td>\n",
       "      <td>63216</td>\n",
       "      <td>285</td>\n",
       "      <td>40</td>\n",
       "      <td>NaN</td>\n",
       "      <td>1999</td>\n",
       "      <td>NaN</td>\n",
       "      <td>NaN</td>\n",
       "      <td>NaN</td>\n",
       "      <td>NaN</td>\n",
       "    </tr>\n",
       "    <tr>\n",
       "      <th>...</th>\n",
       "      <td>...</td>\n",
       "      <td>...</td>\n",
       "      <td>...</td>\n",
       "      <td>...</td>\n",
       "      <td>...</td>\n",
       "      <td>...</td>\n",
       "      <td>...</td>\n",
       "      <td>...</td>\n",
       "      <td>...</td>\n",
       "      <td>...</td>\n",
       "      <td>...</td>\n",
       "      <td>...</td>\n",
       "      <td>...</td>\n",
       "      <td>...</td>\n",
       "      <td>...</td>\n",
       "    </tr>\n",
       "    <tr>\n",
       "      <th>0</th>\n",
       "      <td>9582491</td>\n",
       "      <td>SAMMY</td>\n",
       "      <td>Bulk Carrier</td>\n",
       "      <td>Panama</td>\n",
       "      <td>NaN</td>\n",
       "      <td>43268</td>\n",
       "      <td>82167</td>\n",
       "      <td>229</td>\n",
       "      <td>32</td>\n",
       "      <td>NaN</td>\n",
       "      <td>2012</td>\n",
       "      <td>NaN</td>\n",
       "      <td>NaN</td>\n",
       "      <td>NaN</td>\n",
       "      <td>NaN</td>\n",
       "    </tr>\n",
       "    <tr>\n",
       "      <th>0</th>\n",
       "      <td>9479840</td>\n",
       "      <td>LUCTOR</td>\n",
       "      <td>Chemical/Oil Products Tanker</td>\n",
       "      <td>Panama</td>\n",
       "      <td>NaN</td>\n",
       "      <td>29419</td>\n",
       "      <td>50383</td>\n",
       "      <td>182</td>\n",
       "      <td>32</td>\n",
       "      <td>NaN</td>\n",
       "      <td>2011</td>\n",
       "      <td>NaN</td>\n",
       "      <td>NaN</td>\n",
       "      <td>NaN</td>\n",
       "      <td>NaN</td>\n",
       "    </tr>\n",
       "    <tr>\n",
       "      <th>0</th>\n",
       "      <td>9846093</td>\n",
       "      <td>LEMAN TRADER</td>\n",
       "      <td>Bulk Carrier</td>\n",
       "      <td>Panama</td>\n",
       "      <td>-</td>\n",
       "      <td>43310</td>\n",
       "      <td>82192</td>\n",
       "      <td>229</td>\n",
       "      <td>32</td>\n",
       "      <td>NaN</td>\n",
       "      <td>2019</td>\n",
       "      <td>NaN</td>\n",
       "      <td>NaN</td>\n",
       "      <td>NaN</td>\n",
       "      <td>NaN</td>\n",
       "    </tr>\n",
       "    <tr>\n",
       "      <th>0</th>\n",
       "      <td>9706750</td>\n",
       "      <td>ONE MUNCHEN</td>\n",
       "      <td>Container Ship</td>\n",
       "      <td>Panama</td>\n",
       "      <td>-</td>\n",
       "      <td>151672</td>\n",
       "      <td>146906</td>\n",
       "      <td>366</td>\n",
       "      <td>51</td>\n",
       "      <td>NaN</td>\n",
       "      <td>2015</td>\n",
       "      <td>NaN</td>\n",
       "      <td>NaN</td>\n",
       "      <td>NaN</td>\n",
       "      <td>NaN</td>\n",
       "    </tr>\n",
       "    <tr>\n",
       "      <th>0</th>\n",
       "      <td>9622710</td>\n",
       "      <td>GENIUS STAR XI</td>\n",
       "      <td>General Cargo Ship</td>\n",
       "      <td>Panama</td>\n",
       "      <td>NaN</td>\n",
       "      <td>9984</td>\n",
       "      <td>13663</td>\n",
       "      <td>125</td>\n",
       "      <td>21</td>\n",
       "      <td>NaN</td>\n",
       "      <td>2012</td>\n",
       "      <td>NaN</td>\n",
       "      <td>NaN</td>\n",
       "      <td>NaN</td>\n",
       "      <td>NaN</td>\n",
       "    </tr>\n",
       "  </tbody>\n",
       "</table>\n",
       "<p>351 rows × 15 columns</p>\n",
       "</div>"
      ],
      "text/plain": [
       "         0               1                             2       3    4   \\\n",
       "0   9545637      CHANG LONG            General Cargo Ship  Panama  NaN   \n",
       "0   9331892     LILY RISING                  Bulk Carrier  Panama  NaN   \n",
       "0   9433872    SEACON OSAKA            General Cargo Ship  Panama  NaN   \n",
       "0   9909065     NAVIOS STAR                  Bulk Carrier  Panama    -   \n",
       "0   9169158      EVER UNITY                Container Ship  Panama  NaN   \n",
       "..      ...             ...                           ...     ...  ...   \n",
       "0   9582491           SAMMY                  Bulk Carrier  Panama  NaN   \n",
       "0   9479840          LUCTOR  Chemical/Oil Products Tanker  Panama  NaN   \n",
       "0   9846093    LEMAN TRADER                  Bulk Carrier  Panama    -   \n",
       "0   9706750     ONE MUNCHEN                Container Ship  Panama    -   \n",
       "0   9622710  GENIUS STAR XI            General Cargo Ship  Panama  NaN   \n",
       "\n",
       "        5       6    7   8    9     10   11   12   13  14  \n",
       "0     8979   13618  140  20  NaN  2010  NaN  NaN  NaN NaN  \n",
       "0    31236   56083  190  32  NaN  2007  NaN  NaN  NaN NaN  \n",
       "0     9932   14416  128  20  NaN  2008  NaN  NaN  NaN NaN  \n",
       "0    44175   81994  229  32    -  2021    -    -    - NaN  \n",
       "0    69246   63216  285  40  NaN  1999  NaN  NaN  NaN NaN  \n",
       "..     ...     ...  ...  ..  ...   ...  ...  ...  ...  ..  \n",
       "0    43268   82167  229  32  NaN  2012  NaN  NaN  NaN NaN  \n",
       "0    29419   50383  182  32  NaN  2011  NaN  NaN  NaN NaN  \n",
       "0    43310   82192  229  32  NaN  2019  NaN  NaN  NaN NaN  \n",
       "0   151672  146906  366  51  NaN  2015  NaN  NaN  NaN NaN  \n",
       "0     9984   13663  125  21  NaN  2012  NaN  NaN  NaN NaN  \n",
       "\n",
       "[351 rows x 15 columns]"
      ]
     },
     "execution_count": 10,
     "metadata": {},
     "output_type": "execute_result"
    }
   ],
   "source": [
    "new_df"
   ]
  },
  {
   "cell_type": "code",
   "execution_count": 46,
   "metadata": {},
   "outputs": [],
   "source": [
    "new_df.to_csv('new_df', index=False)"
   ]
  },
  {
   "cell_type": "code",
   "execution_count": 22,
   "metadata": {},
   "outputs": [
    {
     "name": "stdout",
     "output_type": "stream",
     "text": [
      "Collecting html5lib\n",
      "  Downloading html5lib-1.1-py2.py3-none-any.whl (112 kB)\n",
      "     ---------------------------------------- 0.0/112.2 kB ? eta -:--:--\n",
      "     ---------- ---------------------------- 30.7/112.2 kB 1.4 MB/s eta 0:00:01\n",
      "     -------------------------------------- 112.2/112.2 kB 2.2 MB/s eta 0:00:00\n",
      "Requirement already satisfied: six>=1.9 in c:\\users\\vikram\\anaconda3\\lib\\site-packages (from html5lib) (1.16.0)\n",
      "Requirement already satisfied: webencodings in c:\\users\\vikram\\anaconda3\\lib\\site-packages (from html5lib) (0.5.1)\n",
      "Installing collected packages: html5lib\n",
      "Successfully installed html5lib-1.1\n",
      "Note: you may need to restart the kernel to use updated packages.\n"
     ]
    }
   ],
   "source": [
    "pip install html5lib"
   ]
  },
  {
   "cell_type": "code",
   "execution_count": 22,
   "metadata": {},
   "outputs": [
    {
     "name": "stdout",
     "output_type": "stream",
     "text": [
      "Failed to retrieve the page. Status code: 404\n",
      "Failed to retrieve the page. Status code: 404\n",
      "Failed to retrieve the page. Status code: 404\n",
      "Failed to retrieve the page. Status code: 404\n",
      "Failed to retrieve the page. Status code: 404\n",
      "Failed to retrieve the page. Status code: 404\n",
      "Failed to retrieve the page. Status code: 404\n",
      "Failed to retrieve the page. Status code: 404\n",
      "Failed to retrieve the page. Status code: 404\n",
      "Failed to retrieve the page. Status code: 404\n",
      "Failed to retrieve the page. Status code: 404\n",
      "Failed to retrieve the page. Status code: 404\n",
      "Failed to retrieve the page. Status code: 404\n",
      "Failed to retrieve the page. Status code: 404\n",
      "Failed to retrieve the page. Status code: 404\n",
      "Failed to retrieve the page. Status code: 404\n",
      "Failed to retrieve the page. Status code: 404\n",
      "Failed to retrieve the page. Status code: 404\n",
      "Failed to retrieve the page. Status code: 404\n",
      "Failed to retrieve the page. Status code: 404\n",
      "Failed to retrieve the page. Status code: 404\n",
      "Failed to retrieve the page. Status code: 404\n",
      "Failed to retrieve the page. Status code: 404\n",
      "Failed to retrieve the page. Status code: 404\n",
      "Failed to retrieve the page. Status code: 404\n",
      "Failed to retrieve the page. Status code: 404\n",
      "Failed to retrieve the page. Status code: 404\n",
      "Failed to retrieve the page. Status code: 404\n",
      "Failed to retrieve the page. Status code: 404\n",
      "Failed to retrieve the page. Status code: 404\n",
      "Failed to retrieve the page. Status code: 404\n",
      "Failed to retrieve the page. Status code: 404\n",
      "Failed to retrieve the page. Status code: 404\n",
      "Failed to retrieve the page. Status code: 404\n",
      "Failed to retrieve the page. Status code: 404\n",
      "Failed to retrieve the page. Status code: 404\n",
      "Failed to retrieve the page. Status code: 404\n",
      "Failed to retrieve the page. Status code: 404\n",
      "Failed to retrieve the page. Status code: 404\n",
      "Failed to retrieve the page. Status code: 404\n",
      "Failed to retrieve the page. Status code: 404\n",
      "Failed to retrieve the page. Status code: 404\n",
      "Failed to retrieve the page. Status code: 404\n",
      "Failed to retrieve the page. Status code: 404\n",
      "Failed to retrieve the page. Status code: 404\n",
      "Failed to retrieve the page. Status code: 404\n",
      "Failed to retrieve the page. Status code: 404\n",
      "Failed to retrieve the page. Status code: 404\n",
      "Failed to retrieve the page. Status code: 404\n",
      "Failed to retrieve the page. Status code: 404\n",
      "Failed to retrieve the page. Status code: 404\n",
      "Failed to retrieve the page. Status code: 404\n",
      "Failed to retrieve the page. Status code: 404\n",
      "Failed to retrieve the page. Status code: 404\n",
      "Failed to retrieve the page. Status code: 404\n",
      "Failed to retrieve the page. Status code: 404\n",
      "Failed to retrieve the page. Status code: 404\n",
      "Failed to retrieve the page. Status code: 404\n",
      "Failed to retrieve the page. Status code: 404\n",
      "Failed to retrieve the page. Status code: 404\n",
      "Failed to retrieve the page. Status code: 404\n"
     ]
    }
   ],
   "source": [
    "import requests\n",
    "import pandas as pd\n",
    "from fake_useragent import UserAgent\n",
    "import time\n",
    "\n",
    "def get_ship_data(url, headers):\n",
    "\n",
    "  user_agent = UserAgent().random\n",
    "  headers[\"User-Agent\"] = user_agent\n",
    "\n",
    "  response = requests.get(url, headers=headers)\n",
    "  if response.status_code == 200:\n",
    "    tables = pd.read_html(response.text)\n",
    "    if tables and len(tables) > 1:  # Check if tables exist and there is at least one table.\n",
    "        ShipDat_df = tables[1]\n",
    "        first_row_list = ShipDat_df.T.iloc[1].tolist()\n",
    "        return first_row_list\n",
    "  elif response.status_code == 404:\n",
    "    print(f\"Failed to retrieve the page. Status code: 404\")\n",
    "  else:\n",
    "    print(f\"Failed to retrieve the page. Status code: {response.status_code}\")\n",
    "  return None\n",
    "\n",
    "for i in range(8345, len(mmsi_df)):\n",
    "  abc = mmsi_df[\"mmsi\"][i]\n",
    "  ship_data = get_ship_data(f\"https://www.vesselfinder.com/vessels/details/{abc}\", header)\n",
    "  if ship_data is not None:\n",
    "      new_df = pd.concat([new_df, pd.DataFrame([ship_data])])\n",
    "  time.sleep(3)        "
   ]
  },
  {
   "cell_type": "code",
   "execution_count": 23,
   "metadata": {},
   "outputs": [],
   "source": [
    "new_df.to_csv('new_df6', index=False)"
   ]
  },
  {
   "cell_type": "code",
   "execution_count": 12,
   "metadata": {},
   "outputs": [
    {
     "name": "stdout",
     "output_type": "stream",
     "text": [
      "  Dec  Tide           \n",
      "  Dec  Time Height H/L\n",
      "0   1   216    2.8   H\n",
      "1   1   716    1.8   L\n",
      "2   1  1246    3.1   H\n",
      "3   1  1933    0.5   L\n",
      "4   2   258    2.7   H\n"
     ]
    }
   ],
   "source": [
    "import pandas as pd\n",
    "import requests\n",
    "\n",
    "url = \"https://www.citipedia.info/en/tides/singapore/sembawang_singapore/m/september\"\n",
    "\n",
    "response = requests.get(url, headers=header)\n",
    "\n",
    "if response.status_code == 200:\n",
    "    Tides_df = pd.read_html(response.text)[0]\n",
    "    print(CountryCode_df.head())\n",
    "else:\n",
    "    print(f\"Failed to retrieve the page. Status code: {response.status_code}\")\n"
   ]
  },
  {
   "cell_type": "code",
   "execution_count": null,
   "metadata": {},
   "outputs": [],
   "source": [
    "Tides_df.to_csv('Tides_csv', index=False)"
   ]
  }
 ],
 "metadata": {
  "colab": {
   "provenance": []
  },
  "kernelspec": {
   "display_name": "Python 3 (ipykernel)",
   "language": "python",
   "name": "python3"
  },
  "language_info": {
   "codemirror_mode": {
    "name": "ipython",
    "version": 3
   },
   "file_extension": ".py",
   "mimetype": "text/x-python",
   "name": "python",
   "nbconvert_exporter": "python",
   "pygments_lexer": "ipython3",
   "version": "3.11.5"
  }
 },
 "nbformat": 4,
 "nbformat_minor": 4
}
